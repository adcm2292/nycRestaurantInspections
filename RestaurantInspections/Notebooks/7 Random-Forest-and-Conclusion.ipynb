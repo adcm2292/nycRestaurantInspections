{
 "cells": [
  {
   "cell_type": "markdown",
   "metadata": {},
   "source": [
    "## Vanilla Decision Tree & Random Forest"
   ]
  },
  {
   "cell_type": "code",
   "execution_count": 1,
   "metadata": {},
   "outputs": [],
   "source": [
    "import pandas as pd\n",
    "import numpy as np\n",
    "np.random.seed(0)\n",
    "import matplotlib.pyplot as plt\n",
    "import category_encoders as ce\n",
    "\n",
    "from sklearn.model_selection import train_test_split\n",
    "from sklearn.metrics import accuracy_score, classification_report\n",
    "from sklearn.tree import DecisionTreeClassifier\n",
    "from sklearn.ensemble import BaggingClassifier, RandomForestClassifier\n",
    "\n",
    "from sklearn.preprocessing import LabelEncoder\n",
    "from sklearn.preprocessing import OneHotEncoder \n",
    "from sklearn.compose import ColumnTransformer\n",
    "from sklearn.metrics import confusion_matrix\n",
    "from sklearn.metrics import plot_confusion_matrix\n",
    "\n",
    "%matplotlib inline\n",
    "%store -r X_train\n",
    "%store -r y_train\n",
    "%store -r X_test\n",
    "%store -r y_test"
   ]
  },
  {
   "cell_type": "code",
   "execution_count": 2,
   "metadata": {},
   "outputs": [],
   "source": [
    "X_train = X_train.drop(columns=['Latitude', 'Longitude', 'ViolationDescription', 'ViolationCode', 'Camis', 'Dba',\n",
    "                               'Zipcode', 'InspectionDate', 'InspectionYear'])\n",
    "X_test = X_test.drop(columns=['Latitude', 'Longitude', 'ViolationDescription', 'ViolationCode', 'Camis', 'Dba', \n",
    "                             'Zipcode', 'InspectionDate', 'InspectionYear'])"
   ]
  },
  {
   "cell_type": "markdown",
   "metadata": {},
   "source": [
    "We'll be working with 7 features:"
   ]
  },
  {
   "cell_type": "code",
   "execution_count": 3,
   "metadata": {
    "scrolled": true
   },
   "outputs": [
    {
     "name": "stdout",
     "output_type": "stream",
     "text": [
      "<class 'pandas.core.frame.DataFrame'>\n",
      "Int64Index: 117697 entries, 126620 to 248657\n",
      "Data columns (total 7 columns):\n",
      " #   Column           Non-Null Count   Dtype  \n",
      "---  ------           --------------   -----  \n",
      " 0   Boro             117697 non-null  object \n",
      " 1   Cuisine          117697 non-null  object \n",
      " 2   Action           117697 non-null  object \n",
      " 3   Grade            117697 non-null  object \n",
      " 4   InspectionType   117697 non-null  object \n",
      " 5   CouncilDistrict  117697 non-null  float64\n",
      " 6   IsChain          117697 non-null  bool   \n",
      "dtypes: bool(1), float64(1), object(5)\n",
      "memory usage: 6.4+ MB\n"
     ]
    }
   ],
   "source": [
    "X_train.info()"
   ]
  },
  {
   "cell_type": "code",
   "execution_count": 4,
   "metadata": {},
   "outputs": [],
   "source": [
    "# Instantiate Encoders\n",
    "le = LabelEncoder()\n",
    "ohe = OneHotEncoder()"
   ]
  },
  {
   "cell_type": "code",
   "execution_count": 5,
   "metadata": {},
   "outputs": [],
   "source": [
    "# Label encoding\n",
    "y_train_le = le.fit_transform(y_train)\n",
    "y_test_le = le.fit_transform(y_test)"
   ]
  },
  {
   "cell_type": "code",
   "execution_count": 6,
   "metadata": {
    "scrolled": true
   },
   "outputs": [
    {
     "name": "stderr",
     "output_type": "stream",
     "text": [
      "/home/user/anaconda3/envs/flatiron/lib/python3.6/site-packages/category_encoders/utils.py:21: FutureWarning: is_categorical is deprecated and will be removed in a future version.  Use is_categorical_dtype instead\n",
      "  elif pd.api.types.is_categorical(cols):\n"
     ]
    },
    {
     "data": {
      "text/html": [
       "<div>\n",
       "<style scoped>\n",
       "    .dataframe tbody tr th:only-of-type {\n",
       "        vertical-align: middle;\n",
       "    }\n",
       "\n",
       "    .dataframe tbody tr th {\n",
       "        vertical-align: top;\n",
       "    }\n",
       "\n",
       "    .dataframe thead th {\n",
       "        text-align: right;\n",
       "    }\n",
       "</style>\n",
       "<table border=\"1\" class=\"dataframe\">\n",
       "  <thead>\n",
       "    <tr style=\"text-align: right;\">\n",
       "      <th></th>\n",
       "      <th>Boro_Brooklyn</th>\n",
       "      <th>Boro_Manhattan</th>\n",
       "      <th>Boro_Bronx</th>\n",
       "      <th>Boro_Queens</th>\n",
       "      <th>Boro_Staten Island</th>\n",
       "      <th>Cuisine_Mediterranean</th>\n",
       "      <th>Cuisine_American</th>\n",
       "      <th>Cuisine_Latin/Caribbean</th>\n",
       "      <th>Cuisine_Asian</th>\n",
       "      <th>Cuisine_Specialty</th>\n",
       "      <th>...</th>\n",
       "      <th>Grade_C</th>\n",
       "      <th>InspectionType_Cycle Inspection / Initial Inspection</th>\n",
       "      <th>InspectionType_Cycle Inspection / Re-inspection</th>\n",
       "      <th>InspectionType_Pre-permit (Operational) / Initial Inspection</th>\n",
       "      <th>InspectionType_Pre-permit (Operational) / Re-inspection</th>\n",
       "      <th>InspectionType_Pre-permit (Operational) / Reopening Inspection</th>\n",
       "      <th>InspectionType_Cycle Inspection / Reopening Inspection</th>\n",
       "      <th>InspectionType_Pre-permit (Non-operational)</th>\n",
       "      <th>CouncilDistrict</th>\n",
       "      <th>IsChain</th>\n",
       "    </tr>\n",
       "  </thead>\n",
       "  <tbody>\n",
       "    <tr>\n",
       "      <th>126620</th>\n",
       "      <td>1</td>\n",
       "      <td>0</td>\n",
       "      <td>0</td>\n",
       "      <td>0</td>\n",
       "      <td>0</td>\n",
       "      <td>1</td>\n",
       "      <td>0</td>\n",
       "      <td>0</td>\n",
       "      <td>0</td>\n",
       "      <td>0</td>\n",
       "      <td>...</td>\n",
       "      <td>0</td>\n",
       "      <td>1</td>\n",
       "      <td>0</td>\n",
       "      <td>0</td>\n",
       "      <td>0</td>\n",
       "      <td>0</td>\n",
       "      <td>0</td>\n",
       "      <td>0</td>\n",
       "      <td>33.0</td>\n",
       "      <td>False</td>\n",
       "    </tr>\n",
       "    <tr>\n",
       "      <th>14307</th>\n",
       "      <td>0</td>\n",
       "      <td>1</td>\n",
       "      <td>0</td>\n",
       "      <td>0</td>\n",
       "      <td>0</td>\n",
       "      <td>1</td>\n",
       "      <td>0</td>\n",
       "      <td>0</td>\n",
       "      <td>0</td>\n",
       "      <td>0</td>\n",
       "      <td>...</td>\n",
       "      <td>0</td>\n",
       "      <td>0</td>\n",
       "      <td>1</td>\n",
       "      <td>0</td>\n",
       "      <td>0</td>\n",
       "      <td>0</td>\n",
       "      <td>0</td>\n",
       "      <td>0</td>\n",
       "      <td>2.0</td>\n",
       "      <td>False</td>\n",
       "    </tr>\n",
       "    <tr>\n",
       "      <th>286220</th>\n",
       "      <td>1</td>\n",
       "      <td>0</td>\n",
       "      <td>0</td>\n",
       "      <td>0</td>\n",
       "      <td>0</td>\n",
       "      <td>0</td>\n",
       "      <td>1</td>\n",
       "      <td>0</td>\n",
       "      <td>0</td>\n",
       "      <td>0</td>\n",
       "      <td>...</td>\n",
       "      <td>0</td>\n",
       "      <td>0</td>\n",
       "      <td>1</td>\n",
       "      <td>0</td>\n",
       "      <td>0</td>\n",
       "      <td>0</td>\n",
       "      <td>0</td>\n",
       "      <td>0</td>\n",
       "      <td>33.0</td>\n",
       "      <td>False</td>\n",
       "    </tr>\n",
       "    <tr>\n",
       "      <th>374436</th>\n",
       "      <td>0</td>\n",
       "      <td>0</td>\n",
       "      <td>1</td>\n",
       "      <td>0</td>\n",
       "      <td>0</td>\n",
       "      <td>0</td>\n",
       "      <td>0</td>\n",
       "      <td>1</td>\n",
       "      <td>0</td>\n",
       "      <td>0</td>\n",
       "      <td>...</td>\n",
       "      <td>0</td>\n",
       "      <td>0</td>\n",
       "      <td>1</td>\n",
       "      <td>0</td>\n",
       "      <td>0</td>\n",
       "      <td>0</td>\n",
       "      <td>0</td>\n",
       "      <td>0</td>\n",
       "      <td>12.0</td>\n",
       "      <td>False</td>\n",
       "    </tr>\n",
       "    <tr>\n",
       "      <th>47465</th>\n",
       "      <td>1</td>\n",
       "      <td>0</td>\n",
       "      <td>0</td>\n",
       "      <td>0</td>\n",
       "      <td>0</td>\n",
       "      <td>0</td>\n",
       "      <td>0</td>\n",
       "      <td>1</td>\n",
       "      <td>0</td>\n",
       "      <td>0</td>\n",
       "      <td>...</td>\n",
       "      <td>0</td>\n",
       "      <td>1</td>\n",
       "      <td>0</td>\n",
       "      <td>0</td>\n",
       "      <td>0</td>\n",
       "      <td>0</td>\n",
       "      <td>0</td>\n",
       "      <td>0</td>\n",
       "      <td>41.0</td>\n",
       "      <td>False</td>\n",
       "    </tr>\n",
       "  </tbody>\n",
       "</table>\n",
       "<p>5 rows × 39 columns</p>\n",
       "</div>"
      ],
      "text/plain": [
       "        Boro_Brooklyn  Boro_Manhattan  Boro_Bronx  Boro_Queens  \\\n",
       "126620              1               0           0            0   \n",
       "14307               0               1           0            0   \n",
       "286220              1               0           0            0   \n",
       "374436              0               0           1            0   \n",
       "47465               1               0           0            0   \n",
       "\n",
       "        Boro_Staten Island  Cuisine_Mediterranean  Cuisine_American  \\\n",
       "126620                   0                      1                 0   \n",
       "14307                    0                      1                 0   \n",
       "286220                   0                      0                 1   \n",
       "374436                   0                      0                 0   \n",
       "47465                    0                      0                 0   \n",
       "\n",
       "        Cuisine_Latin/Caribbean  Cuisine_Asian  Cuisine_Specialty  ...  \\\n",
       "126620                        0              0                  0  ...   \n",
       "14307                         0              0                  0  ...   \n",
       "286220                        0              0                  0  ...   \n",
       "374436                        1              0                  0  ...   \n",
       "47465                         1              0                  0  ...   \n",
       "\n",
       "        Grade_C  InspectionType_Cycle Inspection / Initial Inspection  \\\n",
       "126620        0                                                  1      \n",
       "14307         0                                                  0      \n",
       "286220        0                                                  0      \n",
       "374436        0                                                  0      \n",
       "47465         0                                                  1      \n",
       "\n",
       "        InspectionType_Cycle Inspection / Re-inspection  \\\n",
       "126620                                                0   \n",
       "14307                                                 1   \n",
       "286220                                                1   \n",
       "374436                                                1   \n",
       "47465                                                 0   \n",
       "\n",
       "        InspectionType_Pre-permit (Operational) / Initial Inspection  \\\n",
       "126620                                                  0              \n",
       "14307                                                   0              \n",
       "286220                                                  0              \n",
       "374436                                                  0              \n",
       "47465                                                   0              \n",
       "\n",
       "        InspectionType_Pre-permit (Operational) / Re-inspection  \\\n",
       "126620                                                  0         \n",
       "14307                                                   0         \n",
       "286220                                                  0         \n",
       "374436                                                  0         \n",
       "47465                                                   0         \n",
       "\n",
       "        InspectionType_Pre-permit (Operational) / Reopening Inspection  \\\n",
       "126620                                                  0                \n",
       "14307                                                   0                \n",
       "286220                                                  0                \n",
       "374436                                                  0                \n",
       "47465                                                   0                \n",
       "\n",
       "        InspectionType_Cycle Inspection / Reopening Inspection  \\\n",
       "126620                                                  0        \n",
       "14307                                                   0        \n",
       "286220                                                  0        \n",
       "374436                                                  0        \n",
       "47465                                                   0        \n",
       "\n",
       "        InspectionType_Pre-permit (Non-operational)  CouncilDistrict  IsChain  \n",
       "126620                                            0             33.0    False  \n",
       "14307                                             0              2.0    False  \n",
       "286220                                            0             33.0    False  \n",
       "374436                                            0             12.0    False  \n",
       "47465                                             0             41.0    False  \n",
       "\n",
       "[5 rows x 39 columns]"
      ]
     },
     "execution_count": 6,
     "metadata": {},
     "output_type": "execute_result"
    }
   ],
   "source": [
    "# One hot encoding\n",
    "ohe = ce.OneHotEncoder(handle_unknown='ignore', use_cat_names=True)\n",
    "X_train_ohe = ohe.fit_transform(X_train)\n",
    "X_train_ohe.head()"
   ]
  },
  {
   "cell_type": "code",
   "execution_count": 7,
   "metadata": {},
   "outputs": [
    {
     "name": "stderr",
     "output_type": "stream",
     "text": [
      "/home/user/anaconda3/envs/flatiron/lib/python3.6/site-packages/category_encoders/utils.py:21: FutureWarning: is_categorical is deprecated and will be removed in a future version.  Use is_categorical_dtype instead\n",
      "  elif pd.api.types.is_categorical(cols):\n"
     ]
    },
    {
     "data": {
      "text/html": [
       "<div>\n",
       "<style scoped>\n",
       "    .dataframe tbody tr th:only-of-type {\n",
       "        vertical-align: middle;\n",
       "    }\n",
       "\n",
       "    .dataframe tbody tr th {\n",
       "        vertical-align: top;\n",
       "    }\n",
       "\n",
       "    .dataframe thead th {\n",
       "        text-align: right;\n",
       "    }\n",
       "</style>\n",
       "<table border=\"1\" class=\"dataframe\">\n",
       "  <thead>\n",
       "    <tr style=\"text-align: right;\">\n",
       "      <th></th>\n",
       "      <th>Boro_Brooklyn</th>\n",
       "      <th>Boro_Bronx</th>\n",
       "      <th>Boro_Manhattan</th>\n",
       "      <th>Boro_Queens</th>\n",
       "      <th>Boro_Staten Island</th>\n",
       "      <th>Cuisine_Pizza</th>\n",
       "      <th>Cuisine_American</th>\n",
       "      <th>Cuisine_Italian</th>\n",
       "      <th>Cuisine_International</th>\n",
       "      <th>Cuisine_Latin/Caribbean</th>\n",
       "      <th>...</th>\n",
       "      <th>Grade_C</th>\n",
       "      <th>InspectionType_Cycle Inspection / Initial Inspection</th>\n",
       "      <th>InspectionType_Cycle Inspection / Re-inspection</th>\n",
       "      <th>InspectionType_Pre-permit (Operational) / Reopening Inspection</th>\n",
       "      <th>InspectionType_Pre-permit (Operational) / Initial Inspection</th>\n",
       "      <th>InspectionType_Cycle Inspection / Reopening Inspection</th>\n",
       "      <th>InspectionType_Pre-permit (Operational) / Re-inspection</th>\n",
       "      <th>InspectionType_Pre-permit (Non-operational)</th>\n",
       "      <th>CouncilDistrict</th>\n",
       "      <th>IsChain</th>\n",
       "    </tr>\n",
       "  </thead>\n",
       "  <tbody>\n",
       "    <tr>\n",
       "      <th>234299</th>\n",
       "      <td>1</td>\n",
       "      <td>0</td>\n",
       "      <td>0</td>\n",
       "      <td>0</td>\n",
       "      <td>0</td>\n",
       "      <td>1</td>\n",
       "      <td>0</td>\n",
       "      <td>0</td>\n",
       "      <td>0</td>\n",
       "      <td>0</td>\n",
       "      <td>...</td>\n",
       "      <td>0</td>\n",
       "      <td>1</td>\n",
       "      <td>0</td>\n",
       "      <td>0</td>\n",
       "      <td>0</td>\n",
       "      <td>0</td>\n",
       "      <td>0</td>\n",
       "      <td>0</td>\n",
       "      <td>38.0</td>\n",
       "      <td>True</td>\n",
       "    </tr>\n",
       "    <tr>\n",
       "      <th>309886</th>\n",
       "      <td>0</td>\n",
       "      <td>1</td>\n",
       "      <td>0</td>\n",
       "      <td>0</td>\n",
       "      <td>0</td>\n",
       "      <td>0</td>\n",
       "      <td>1</td>\n",
       "      <td>0</td>\n",
       "      <td>0</td>\n",
       "      <td>0</td>\n",
       "      <td>...</td>\n",
       "      <td>0</td>\n",
       "      <td>1</td>\n",
       "      <td>0</td>\n",
       "      <td>0</td>\n",
       "      <td>0</td>\n",
       "      <td>0</td>\n",
       "      <td>0</td>\n",
       "      <td>0</td>\n",
       "      <td>13.0</td>\n",
       "      <td>True</td>\n",
       "    </tr>\n",
       "    <tr>\n",
       "      <th>256582</th>\n",
       "      <td>1</td>\n",
       "      <td>0</td>\n",
       "      <td>0</td>\n",
       "      <td>0</td>\n",
       "      <td>0</td>\n",
       "      <td>0</td>\n",
       "      <td>0</td>\n",
       "      <td>1</td>\n",
       "      <td>0</td>\n",
       "      <td>0</td>\n",
       "      <td>...</td>\n",
       "      <td>0</td>\n",
       "      <td>0</td>\n",
       "      <td>1</td>\n",
       "      <td>0</td>\n",
       "      <td>0</td>\n",
       "      <td>0</td>\n",
       "      <td>0</td>\n",
       "      <td>0</td>\n",
       "      <td>35.0</td>\n",
       "      <td>False</td>\n",
       "    </tr>\n",
       "    <tr>\n",
       "      <th>66275</th>\n",
       "      <td>1</td>\n",
       "      <td>0</td>\n",
       "      <td>0</td>\n",
       "      <td>0</td>\n",
       "      <td>0</td>\n",
       "      <td>0</td>\n",
       "      <td>1</td>\n",
       "      <td>0</td>\n",
       "      <td>0</td>\n",
       "      <td>0</td>\n",
       "      <td>...</td>\n",
       "      <td>0</td>\n",
       "      <td>0</td>\n",
       "      <td>0</td>\n",
       "      <td>1</td>\n",
       "      <td>0</td>\n",
       "      <td>0</td>\n",
       "      <td>0</td>\n",
       "      <td>0</td>\n",
       "      <td>35.0</td>\n",
       "      <td>False</td>\n",
       "    </tr>\n",
       "    <tr>\n",
       "      <th>121712</th>\n",
       "      <td>0</td>\n",
       "      <td>0</td>\n",
       "      <td>1</td>\n",
       "      <td>0</td>\n",
       "      <td>0</td>\n",
       "      <td>0</td>\n",
       "      <td>0</td>\n",
       "      <td>0</td>\n",
       "      <td>1</td>\n",
       "      <td>0</td>\n",
       "      <td>...</td>\n",
       "      <td>0</td>\n",
       "      <td>1</td>\n",
       "      <td>0</td>\n",
       "      <td>0</td>\n",
       "      <td>0</td>\n",
       "      <td>0</td>\n",
       "      <td>0</td>\n",
       "      <td>0</td>\n",
       "      <td>2.0</td>\n",
       "      <td>False</td>\n",
       "    </tr>\n",
       "  </tbody>\n",
       "</table>\n",
       "<p>5 rows × 39 columns</p>\n",
       "</div>"
      ],
      "text/plain": [
       "        Boro_Brooklyn  Boro_Bronx  Boro_Manhattan  Boro_Queens  \\\n",
       "234299              1           0               0            0   \n",
       "309886              0           1               0            0   \n",
       "256582              1           0               0            0   \n",
       "66275               1           0               0            0   \n",
       "121712              0           0               1            0   \n",
       "\n",
       "        Boro_Staten Island  Cuisine_Pizza  Cuisine_American  Cuisine_Italian  \\\n",
       "234299                   0              1                 0                0   \n",
       "309886                   0              0                 1                0   \n",
       "256582                   0              0                 0                1   \n",
       "66275                    0              0                 1                0   \n",
       "121712                   0              0                 0                0   \n",
       "\n",
       "        Cuisine_International  Cuisine_Latin/Caribbean  ...  Grade_C  \\\n",
       "234299                      0                        0  ...        0   \n",
       "309886                      0                        0  ...        0   \n",
       "256582                      0                        0  ...        0   \n",
       "66275                       0                        0  ...        0   \n",
       "121712                      1                        0  ...        0   \n",
       "\n",
       "        InspectionType_Cycle Inspection / Initial Inspection  \\\n",
       "234299                                                  1      \n",
       "309886                                                  1      \n",
       "256582                                                  0      \n",
       "66275                                                   0      \n",
       "121712                                                  1      \n",
       "\n",
       "        InspectionType_Cycle Inspection / Re-inspection  \\\n",
       "234299                                                0   \n",
       "309886                                                0   \n",
       "256582                                                1   \n",
       "66275                                                 0   \n",
       "121712                                                0   \n",
       "\n",
       "        InspectionType_Pre-permit (Operational) / Reopening Inspection  \\\n",
       "234299                                                  0                \n",
       "309886                                                  0                \n",
       "256582                                                  0                \n",
       "66275                                                   1                \n",
       "121712                                                  0                \n",
       "\n",
       "        InspectionType_Pre-permit (Operational) / Initial Inspection  \\\n",
       "234299                                                  0              \n",
       "309886                                                  0              \n",
       "256582                                                  0              \n",
       "66275                                                   0              \n",
       "121712                                                  0              \n",
       "\n",
       "        InspectionType_Cycle Inspection / Reopening Inspection  \\\n",
       "234299                                                  0        \n",
       "309886                                                  0        \n",
       "256582                                                  0        \n",
       "66275                                                   0        \n",
       "121712                                                  0        \n",
       "\n",
       "        InspectionType_Pre-permit (Operational) / Re-inspection  \\\n",
       "234299                                                  0         \n",
       "309886                                                  0         \n",
       "256582                                                  0         \n",
       "66275                                                   0         \n",
       "121712                                                  0         \n",
       "\n",
       "        InspectionType_Pre-permit (Non-operational)  CouncilDistrict  IsChain  \n",
       "234299                                            0             38.0     True  \n",
       "309886                                            0             13.0     True  \n",
       "256582                                            0             35.0    False  \n",
       "66275                                             0             35.0    False  \n",
       "121712                                            0              2.0    False  \n",
       "\n",
       "[5 rows x 39 columns]"
      ]
     },
     "execution_count": 7,
     "metadata": {},
     "output_type": "execute_result"
    }
   ],
   "source": [
    "X_test_ohe = ohe.fit_transform(X_test)\n",
    "X_test_ohe.head()"
   ]
  },
  {
   "cell_type": "markdown",
   "metadata": {},
   "source": [
    "* ### Vanilla Decision Tree\n",
    "\n",
    "Let's build a vanilla decision tree to see how it could be different than the one we obtained using SelectKBest Tool in the previous notebook."
   ]
  },
  {
   "cell_type": "code",
   "execution_count": 8,
   "metadata": {},
   "outputs": [
    {
     "data": {
      "text/plain": [
       "DecisionTreeClassifier(max_depth=5, random_state=10)"
      ]
     },
     "execution_count": 8,
     "metadata": {},
     "output_type": "execute_result"
    }
   ],
   "source": [
    "# Instantiate and fit a DecisionTreeClassifier\n",
    "tree = DecisionTreeClassifier(criterion='gini', max_depth=5, random_state=10) \n",
    "tree.fit(X_train_ohe, y_train_le)"
   ]
  },
  {
   "cell_type": "code",
   "execution_count": 9,
   "metadata": {},
   "outputs": [],
   "source": [
    "# Test set prediction\n",
    "tree_pred = tree.predict(X_test_ohe)"
   ]
  },
  {
   "cell_type": "code",
   "execution_count": 10,
   "metadata": {},
   "outputs": [
    {
     "name": "stdout",
     "output_type": "stream",
     "text": [
      "              precision    recall  f1-score   support\n",
      "\n",
      "           0       0.55      0.52      0.54     38685\n",
      "           1       0.56      0.59      0.58     39780\n",
      "\n",
      "    accuracy                           0.56     78465\n",
      "   macro avg       0.56      0.56      0.56     78465\n",
      "weighted avg       0.56      0.56      0.56     78465\n",
      "\n"
     ]
    }
   ],
   "source": [
    "# Classification report\n",
    "print(classification_report(y_test_le, tree_pred))"
   ]
  },
  {
   "cell_type": "code",
   "execution_count": 11,
   "metadata": {},
   "outputs": [
    {
     "name": "stdout",
     "output_type": "stream",
     "text": [
      "Testing Accuracy for Decision Tree Classifier: 55.73%\n"
     ]
    }
   ],
   "source": [
    "print(\"Testing Accuracy for Decision Tree Classifier: {:.4}%\".format(accuracy_score(y_test_le, tree_pred) * 100))"
   ]
  },
  {
   "cell_type": "markdown",
   "metadata": {},
   "source": [
    "### Confusion Matrix"
   ]
  },
  {
   "cell_type": "code",
   "execution_count": 12,
   "metadata": {},
   "outputs": [
    {
     "data": {
      "image/png": "[encoded data removed]",
      "text/plain": [
       "<Figure size 432x288 with 2 Axes>"
      ]
     },
     "metadata": {
      "needs_background": "light"
     },
     "output_type": "display_data"
    }
   ],
   "source": [
    "plot_confusion_matrix(tree, X_test_ohe, y_test_le, cmap=plt.cm.binary, values_format='d')\n",
    "plt.title('Vanilla Decision Tree')\n",
    "plt.show()"
   ]
  },
  {
   "cell_type": "markdown",
   "metadata": {},
   "source": [
    "* Vanilla Decision Tree: 'TP': 23652, 'TN': 20079, 'FP': 18606, 'FN': 16128"
   ]
  },
  {
   "cell_type": "markdown",
   "metadata": {},
   "source": [
    "## Random Forest"
   ]
  },
  {
   "cell_type": "code",
   "execution_count": 13,
   "metadata": {},
   "outputs": [
    {
     "data": {
      "text/plain": [
       "RandomForestClassifier(max_depth=3, n_estimators=25, random_state=21)"
      ]
     },
     "execution_count": 13,
     "metadata": {},
     "output_type": "execute_result"
    }
   ],
   "source": [
    "# Instantiate and fit a RandomForestClassifier\n",
    "forest = RandomForestClassifier(n_estimators=25, max_depth=3, random_state=21)\n",
    "forest.fit(X_train_ohe, y_train_le)"
   ]
  },
  {
   "cell_type": "code",
   "execution_count": 14,
   "metadata": {},
   "outputs": [
    {
     "name": "stdout",
     "output_type": "stream",
     "text": [
      "Training Accuracy for Random Forest: 55.89%\n",
      "Test Accuracy for Random Forest: 55.39%\n"
     ]
    }
   ],
   "source": [
    "# Training accuracy score\n",
    "print(\"Training Accuracy for Random Forest: {:.4}%\".format(forest.score(X_train_ohe, y_train_le) * 100))\n",
    "\n",
    "# Test accuracy score\n",
    "print(\"Test Accuracy for Random Forest: {:.4}%\".format(forest.score(X_test_ohe, y_test_le) * 100))"
   ]
  },
  {
   "cell_type": "code",
   "execution_count": 15,
   "metadata": {},
   "outputs": [
    {
     "data": {
      "image/png": "[encoded data removed]",
      "text/plain": [
       "<Figure size 576x576 with 1 Axes>"
      ]
     },
     "metadata": {
      "needs_background": "light"
     },
     "output_type": "display_data"
    }
   ],
   "source": [
    "def plot_feature_importances(model):\n",
    "    n_features = X_train_ohe.shape[1]\n",
    "    plt.figure(figsize=(8,8))\n",
    "    plt.barh(range(n_features), model.feature_importances_, align='center') \n",
    "    plt.yticks(np.arange(n_features), X_train_ohe.columns.values) \n",
    "    plt.xlabel('Feature importance')\n",
    "    plt.ylabel('Feature')\n",
    "\n",
    "plot_feature_importances(forest)"
   ]
  },
  {
   "cell_type": "code",
   "execution_count": 16,
   "metadata": {},
   "outputs": [],
   "source": [
    "forest_pred = forest.predict(X_test_ohe)"
   ]
  },
  {
   "cell_type": "code",
   "execution_count": 17,
   "metadata": {},
   "outputs": [
    {
     "name": "stdout",
     "output_type": "stream",
     "text": [
      "              precision    recall  f1-score   support\n",
      "\n",
      "           0       0.55      0.53      0.54     38685\n",
      "           1       0.56      0.58      0.57     39780\n",
      "\n",
      "    accuracy                           0.55     78465\n",
      "   macro avg       0.55      0.55      0.55     78465\n",
      "weighted avg       0.55      0.55      0.55     78465\n",
      "\n"
     ]
    }
   ],
   "source": [
    "# Classification report\n",
    "print(classification_report(y_test_le, forest_pred))"
   ]
  },
  {
   "cell_type": "markdown",
   "metadata": {},
   "source": [
    "### Confusion Matrix"
   ]
  },
  {
   "cell_type": "code",
   "execution_count": 18,
   "metadata": {},
   "outputs": [
    {
     "data": {
      "image/png": "[encoded data removed]",
      "text/plain": [
       "<Figure size 432x288 with 2 Axes>"
      ]
     },
     "metadata": {
      "needs_background": "light"
     },
     "output_type": "display_data"
    }
   ],
   "source": [
    "plot_confusion_matrix(forest, X_test_ohe, y_test_le, cmap=plt.cm.Pastel1_r, values_format='d')\n",
    "plt.title('Random Forest')\n",
    "plt.show()"
   ]
  },
  {
   "cell_type": "markdown",
   "metadata": {},
   "source": [
    "* Random Forest: 'TP': 22959, 'TN': 20504, 'FP': 18181, 'FN': 16821.\n",
    "* I tried many different combinations of n_estimators (number of trees) and max_depth (number of levels per tree) keeping track with the use of random_state.\n",
    "* The best random forest was returned using 25 trees with 3 levels each."
   ]
  },
  {
   "cell_type": "markdown",
   "metadata": {},
   "source": [
    "Let's compare our confusion matrix values:\n",
    "\n",
    "* Logistic Reg: 'TP': 22138, 'TN': 20617, 'FP': 18068, 'FN': 17642\n",
    "* SelectKBest Tree : 'TP': 23246, 'TN': 20415, 'FP': 18270, 'FN': 16534\n",
    "* Vanilla Tree: 'TP': 23652, 'TN': 20079, 'FP': 18606, 'FN': 16128\n",
    "* Random Forest: 'TP': 22959, 'TN': 20504, 'FP': 18181, 'FN': 16821"
   ]
  },
  {
   "cell_type": "markdown",
   "metadata": {},
   "source": [
    "### Conclusions\n",
    "* In real life, it is very unlikely for an eatery to have no violations at all during service. It is virtually impossible. \n",
    "* The important thing is to differentiate which of these violations could cause eaters to get sick (Critical Flags).\n",
    "* For our problem, we want to keep False Negatives as low as possible, since we never want to predict a True Critical Flag as Non-Critical.\n",
    "* All 4 models returned a similar accuracy at aroun 56%. \n",
    "* Our best model was a Vanilla Decision Tree based on how many violations were predicted as False Negatives. (20.55%). \n",
    "\n",
    "### Future Work\n",
    "\n",
    "* Tuning the model to reduce the number of False Negatives as much as possible."
   ]
  }
 ],
 "metadata": {
  "kernelspec": {
   "display_name": "Python 3",
   "language": "python",
   "name": "python3"
  },
  "language_info": {
   "codemirror_mode": {
    "name": "ipython",
    "version": 3
   },
   "file_extension": ".py",
   "mimetype": "text/x-python",
   "name": "python",
   "nbconvert_exporter": "python",
   "pygments_lexer": "ipython3",
   "version": "3.6.9"
  }
 },
 "nbformat": 4,
 "nbformat_minor": 4
}
