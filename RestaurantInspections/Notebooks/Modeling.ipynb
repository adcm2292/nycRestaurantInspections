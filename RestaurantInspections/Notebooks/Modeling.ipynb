{
 "cells": [
  {
   "cell_type": "markdown",
   "metadata": {},
   "source": [
    "### Preparing Data and Modeling"
   ]
  },
  {
   "cell_type": "markdown",
   "metadata": {},
   "source": [
    "We have no numerical features. We will need to transform all of them in order to make them readable by ML models."
   ]
  },
  {
   "cell_type": "code",
   "execution_count": 1,
   "metadata": {},
   "outputs": [],
   "source": [
    "from sklearn.linear_model import LogisticRegression\n",
    "from sklearn.preprocessing import LabelEncoder\n",
    "from sklearn.preprocessing import OneHotEncoder \n",
    "from sklearn.compose import ColumnTransformer\n",
    "from sklearn.metrics import confusion_matrix\n",
    "from sklearn.metrics import plot_confusion_matrix\n",
    "from sklearn.metrics import precision_score, recall_score, accuracy_score, f1_score\n",
    "from sklearn.metrics import roc_curve, auc\n",
    "import category_encoders as ce\n",
    "import matplotlib.pyplot as plt\n",
    "import seaborn as sns\n",
    "import numpy as np\n",
    "import pandas as pd\n",
    "%matplotlib inline\n",
    "%store -r X_train\n",
    "%store -r y_train\n",
    "%store -r X_test\n",
    "%store -r y_test"
   ]
  },
  {
   "cell_type": "code",
   "execution_count": 2,
   "metadata": {},
   "outputs": [],
   "source": [
    "logreg = LogisticRegression()\n",
    "le = LabelEncoder()\n",
    "ohe = OneHotEncoder()"
   ]
  },
  {
   "cell_type": "code",
   "execution_count": 3,
   "metadata": {},
   "outputs": [],
   "source": [
    "X_train = X_train.drop(columns=['CouncilDistrict', 'Latitude', 'Longitude', 'ViolationDescription', 'Action',\n",
    "                                 'InspectionDate','Zipcode', 'Camis', 'Dba', 'InspectionYear', 'IsChain',\n",
    "                                 'Boro', 'Cuisine'])"
   ]
  },
  {
   "cell_type": "code",
   "execution_count": 4,
   "metadata": {},
   "outputs": [
    {
     "name": "stdout",
     "output_type": "stream",
     "text": [
      "<class 'pandas.core.frame.DataFrame'>\n",
      "Int64Index: 117697 entries, 126620 to 248657\n",
      "Data columns (total 3 columns):\n",
      " #   Column          Non-Null Count   Dtype \n",
      "---  ------          --------------   ----- \n",
      " 0   ViolationCode   117697 non-null  object\n",
      " 1   Grade           117697 non-null  object\n",
      " 2   InspectionType  117697 non-null  object\n",
      "dtypes: object(3)\n",
      "memory usage: 3.6+ MB\n"
     ]
    }
   ],
   "source": [
    "X_train.info()"
   ]
  },
  {
   "cell_type": "code",
   "execution_count": 5,
   "metadata": {},
   "outputs": [],
   "source": [
    "X_test = X_test.drop(columns=['CouncilDistrict', 'Latitude', 'Longitude', 'ViolationDescription', 'Action',\n",
    "                                 'InspectionDate','Zipcode', 'Camis', 'Dba', 'InspectionYear', 'IsChain',\n",
    "                                 'Boro', 'Cuisine'])"
   ]
  },
  {
   "cell_type": "code",
   "execution_count": 6,
   "metadata": {},
   "outputs": [
    {
     "name": "stdout",
     "output_type": "stream",
     "text": [
      "[1 1 0 ... 0 0 1]\n"
     ]
    }
   ],
   "source": [
    "y_train_le = le.fit_transform(y_train)\n",
    "print(y_train_le)"
   ]
  },
  {
   "cell_type": "code",
   "execution_count": 7,
   "metadata": {},
   "outputs": [],
   "source": [
    "y_test_le = le.fit_transform(y_test)"
   ]
  },
  {
   "cell_type": "code",
   "execution_count": 8,
   "metadata": {},
   "outputs": [
    {
     "name": "stderr",
     "output_type": "stream",
     "text": [
      "/home/user/anaconda3/envs/flatiron/lib/python3.6/site-packages/category_encoders/utils.py:21: FutureWarning: is_categorical is deprecated and will be removed in a future version.  Use is_categorical_dtype instead\n",
      "  elif pd.api.types.is_categorical(cols):\n"
     ]
    },
    {
     "data": {
      "text/html": [
       "<div>\n",
       "<style scoped>\n",
       "    .dataframe tbody tr th:only-of-type {\n",
       "        vertical-align: middle;\n",
       "    }\n",
       "\n",
       "    .dataframe tbody tr th {\n",
       "        vertical-align: top;\n",
       "    }\n",
       "\n",
       "    .dataframe thead th {\n",
       "        text-align: right;\n",
       "    }\n",
       "</style>\n",
       "<table border=\"1\" class=\"dataframe\">\n",
       "  <thead>\n",
       "    <tr style=\"text-align: right;\">\n",
       "      <th></th>\n",
       "      <th>ViolationCode_04A</th>\n",
       "      <th>ViolationCode_02H</th>\n",
       "      <th>ViolationCode_08A</th>\n",
       "      <th>ViolationCode_08C</th>\n",
       "      <th>ViolationCode_10F</th>\n",
       "      <th>ViolationCode_09C</th>\n",
       "      <th>ViolationCode_04L</th>\n",
       "      <th>ViolationCode_06C</th>\n",
       "      <th>ViolationCode_02G</th>\n",
       "      <th>ViolationCode_06B</th>\n",
       "      <th>...</th>\n",
       "      <th>Grade_B</th>\n",
       "      <th>Grade_P</th>\n",
       "      <th>Grade_C</th>\n",
       "      <th>InspectionType_Cycle Inspection / Initial Inspection</th>\n",
       "      <th>InspectionType_Cycle Inspection / Re-inspection</th>\n",
       "      <th>InspectionType_Pre-permit (Operational) / Initial Inspection</th>\n",
       "      <th>InspectionType_Pre-permit (Operational) / Re-inspection</th>\n",
       "      <th>InspectionType_Pre-permit (Operational) / Reopening Inspection</th>\n",
       "      <th>InspectionType_Cycle Inspection / Reopening Inspection</th>\n",
       "      <th>InspectionType_Pre-permit (Non-operational)</th>\n",
       "    </tr>\n",
       "  </thead>\n",
       "  <tbody>\n",
       "    <tr>\n",
       "      <th>126620</th>\n",
       "      <td>1</td>\n",
       "      <td>0</td>\n",
       "      <td>0</td>\n",
       "      <td>0</td>\n",
       "      <td>0</td>\n",
       "      <td>0</td>\n",
       "      <td>0</td>\n",
       "      <td>0</td>\n",
       "      <td>0</td>\n",
       "      <td>0</td>\n",
       "      <td>...</td>\n",
       "      <td>0</td>\n",
       "      <td>0</td>\n",
       "      <td>0</td>\n",
       "      <td>1</td>\n",
       "      <td>0</td>\n",
       "      <td>0</td>\n",
       "      <td>0</td>\n",
       "      <td>0</td>\n",
       "      <td>0</td>\n",
       "      <td>0</td>\n",
       "    </tr>\n",
       "    <tr>\n",
       "      <th>14307</th>\n",
       "      <td>0</td>\n",
       "      <td>1</td>\n",
       "      <td>0</td>\n",
       "      <td>0</td>\n",
       "      <td>0</td>\n",
       "      <td>0</td>\n",
       "      <td>0</td>\n",
       "      <td>0</td>\n",
       "      <td>0</td>\n",
       "      <td>0</td>\n",
       "      <td>...</td>\n",
       "      <td>0</td>\n",
       "      <td>0</td>\n",
       "      <td>0</td>\n",
       "      <td>0</td>\n",
       "      <td>1</td>\n",
       "      <td>0</td>\n",
       "      <td>0</td>\n",
       "      <td>0</td>\n",
       "      <td>0</td>\n",
       "      <td>0</td>\n",
       "    </tr>\n",
       "    <tr>\n",
       "      <th>286220</th>\n",
       "      <td>0</td>\n",
       "      <td>0</td>\n",
       "      <td>1</td>\n",
       "      <td>0</td>\n",
       "      <td>0</td>\n",
       "      <td>0</td>\n",
       "      <td>0</td>\n",
       "      <td>0</td>\n",
       "      <td>0</td>\n",
       "      <td>0</td>\n",
       "      <td>...</td>\n",
       "      <td>0</td>\n",
       "      <td>0</td>\n",
       "      <td>0</td>\n",
       "      <td>0</td>\n",
       "      <td>1</td>\n",
       "      <td>0</td>\n",
       "      <td>0</td>\n",
       "      <td>0</td>\n",
       "      <td>0</td>\n",
       "      <td>0</td>\n",
       "    </tr>\n",
       "    <tr>\n",
       "      <th>374436</th>\n",
       "      <td>0</td>\n",
       "      <td>0</td>\n",
       "      <td>0</td>\n",
       "      <td>1</td>\n",
       "      <td>0</td>\n",
       "      <td>0</td>\n",
       "      <td>0</td>\n",
       "      <td>0</td>\n",
       "      <td>0</td>\n",
       "      <td>0</td>\n",
       "      <td>...</td>\n",
       "      <td>0</td>\n",
       "      <td>0</td>\n",
       "      <td>0</td>\n",
       "      <td>0</td>\n",
       "      <td>1</td>\n",
       "      <td>0</td>\n",
       "      <td>0</td>\n",
       "      <td>0</td>\n",
       "      <td>0</td>\n",
       "      <td>0</td>\n",
       "    </tr>\n",
       "    <tr>\n",
       "      <th>47465</th>\n",
       "      <td>0</td>\n",
       "      <td>0</td>\n",
       "      <td>0</td>\n",
       "      <td>0</td>\n",
       "      <td>1</td>\n",
       "      <td>0</td>\n",
       "      <td>0</td>\n",
       "      <td>0</td>\n",
       "      <td>0</td>\n",
       "      <td>0</td>\n",
       "      <td>...</td>\n",
       "      <td>0</td>\n",
       "      <td>0</td>\n",
       "      <td>0</td>\n",
       "      <td>1</td>\n",
       "      <td>0</td>\n",
       "      <td>0</td>\n",
       "      <td>0</td>\n",
       "      <td>0</td>\n",
       "      <td>0</td>\n",
       "      <td>0</td>\n",
       "    </tr>\n",
       "  </tbody>\n",
       "</table>\n",
       "<p>5 rows × 75 columns</p>\n",
       "</div>"
      ],
      "text/plain": [
       "        ViolationCode_04A  ViolationCode_02H  ViolationCode_08A  \\\n",
       "126620                  1                  0                  0   \n",
       "14307                   0                  1                  0   \n",
       "286220                  0                  0                  1   \n",
       "374436                  0                  0                  0   \n",
       "47465                   0                  0                  0   \n",
       "\n",
       "        ViolationCode_08C  ViolationCode_10F  ViolationCode_09C  \\\n",
       "126620                  0                  0                  0   \n",
       "14307                   0                  0                  0   \n",
       "286220                  0                  0                  0   \n",
       "374436                  1                  0                  0   \n",
       "47465                   0                  1                  0   \n",
       "\n",
       "        ViolationCode_04L  ViolationCode_06C  ViolationCode_02G  \\\n",
       "126620                  0                  0                  0   \n",
       "14307                   0                  0                  0   \n",
       "286220                  0                  0                  0   \n",
       "374436                  0                  0                  0   \n",
       "47465                   0                  0                  0   \n",
       "\n",
       "        ViolationCode_06B  ...  Grade_B  Grade_P  Grade_C  \\\n",
       "126620                  0  ...        0        0        0   \n",
       "14307                   0  ...        0        0        0   \n",
       "286220                  0  ...        0        0        0   \n",
       "374436                  0  ...        0        0        0   \n",
       "47465                   0  ...        0        0        0   \n",
       "\n",
       "        InspectionType_Cycle Inspection / Initial Inspection  \\\n",
       "126620                                                  1      \n",
       "14307                                                   0      \n",
       "286220                                                  0      \n",
       "374436                                                  0      \n",
       "47465                                                   1      \n",
       "\n",
       "        InspectionType_Cycle Inspection / Re-inspection  \\\n",
       "126620                                                0   \n",
       "14307                                                 1   \n",
       "286220                                                1   \n",
       "374436                                                1   \n",
       "47465                                                 0   \n",
       "\n",
       "        InspectionType_Pre-permit (Operational) / Initial Inspection  \\\n",
       "126620                                                  0              \n",
       "14307                                                   0              \n",
       "286220                                                  0              \n",
       "374436                                                  0              \n",
       "47465                                                   0              \n",
       "\n",
       "        InspectionType_Pre-permit (Operational) / Re-inspection  \\\n",
       "126620                                                  0         \n",
       "14307                                                   0         \n",
       "286220                                                  0         \n",
       "374436                                                  0         \n",
       "47465                                                   0         \n",
       "\n",
       "        InspectionType_Pre-permit (Operational) / Reopening Inspection  \\\n",
       "126620                                                  0                \n",
       "14307                                                   0                \n",
       "286220                                                  0                \n",
       "374436                                                  0                \n",
       "47465                                                   0                \n",
       "\n",
       "        InspectionType_Cycle Inspection / Reopening Inspection  \\\n",
       "126620                                                  0        \n",
       "14307                                                   0        \n",
       "286220                                                  0        \n",
       "374436                                                  0        \n",
       "47465                                                   0        \n",
       "\n",
       "        InspectionType_Pre-permit (Non-operational)  \n",
       "126620                                            0  \n",
       "14307                                             0  \n",
       "286220                                            0  \n",
       "374436                                            0  \n",
       "47465                                             0  \n",
       "\n",
       "[5 rows x 75 columns]"
      ]
     },
     "execution_count": 8,
     "metadata": {},
     "output_type": "execute_result"
    }
   ],
   "source": [
    "ohe = ce.OneHotEncoder(handle_unknown='ignore', use_cat_names=True)\n",
    "X_train_ohe = ohe.fit_transform(X_train)\n",
    "X_train_ohe.head()"
   ]
  },
  {
   "cell_type": "code",
   "execution_count": 9,
   "metadata": {},
   "outputs": [
    {
     "name": "stderr",
     "output_type": "stream",
     "text": [
      "/home/user/anaconda3/envs/flatiron/lib/python3.6/site-packages/category_encoders/utils.py:21: FutureWarning: is_categorical is deprecated and will be removed in a future version.  Use is_categorical_dtype instead\n",
      "  elif pd.api.types.is_categorical(cols):\n"
     ]
    },
    {
     "data": {
      "text/html": [
       "<div>\n",
       "<style scoped>\n",
       "    .dataframe tbody tr th:only-of-type {\n",
       "        vertical-align: middle;\n",
       "    }\n",
       "\n",
       "    .dataframe tbody tr th {\n",
       "        vertical-align: top;\n",
       "    }\n",
       "\n",
       "    .dataframe thead th {\n",
       "        text-align: right;\n",
       "    }\n",
       "</style>\n",
       "<table border=\"1\" class=\"dataframe\">\n",
       "  <thead>\n",
       "    <tr style=\"text-align: right;\">\n",
       "      <th></th>\n",
       "      <th>ViolationCode_10B</th>\n",
       "      <th>ViolationCode_04H</th>\n",
       "      <th>ViolationCode_10F</th>\n",
       "      <th>ViolationCode_10J</th>\n",
       "      <th>ViolationCode_06E</th>\n",
       "      <th>ViolationCode_08A</th>\n",
       "      <th>ViolationCode_04N</th>\n",
       "      <th>ViolationCode_09C</th>\n",
       "      <th>ViolationCode_04M</th>\n",
       "      <th>ViolationCode_06C</th>\n",
       "      <th>...</th>\n",
       "      <th>Grade_B</th>\n",
       "      <th>Grade_N</th>\n",
       "      <th>Grade_C</th>\n",
       "      <th>InspectionType_Cycle Inspection / Initial Inspection</th>\n",
       "      <th>InspectionType_Cycle Inspection / Re-inspection</th>\n",
       "      <th>InspectionType_Pre-permit (Operational) / Reopening Inspection</th>\n",
       "      <th>InspectionType_Pre-permit (Operational) / Initial Inspection</th>\n",
       "      <th>InspectionType_Cycle Inspection / Reopening Inspection</th>\n",
       "      <th>InspectionType_Pre-permit (Operational) / Re-inspection</th>\n",
       "      <th>InspectionType_Pre-permit (Non-operational)</th>\n",
       "    </tr>\n",
       "  </thead>\n",
       "  <tbody>\n",
       "    <tr>\n",
       "      <th>234299</th>\n",
       "      <td>1</td>\n",
       "      <td>0</td>\n",
       "      <td>0</td>\n",
       "      <td>0</td>\n",
       "      <td>0</td>\n",
       "      <td>0</td>\n",
       "      <td>0</td>\n",
       "      <td>0</td>\n",
       "      <td>0</td>\n",
       "      <td>0</td>\n",
       "      <td>...</td>\n",
       "      <td>0</td>\n",
       "      <td>0</td>\n",
       "      <td>0</td>\n",
       "      <td>1</td>\n",
       "      <td>0</td>\n",
       "      <td>0</td>\n",
       "      <td>0</td>\n",
       "      <td>0</td>\n",
       "      <td>0</td>\n",
       "      <td>0</td>\n",
       "    </tr>\n",
       "    <tr>\n",
       "      <th>309886</th>\n",
       "      <td>0</td>\n",
       "      <td>1</td>\n",
       "      <td>0</td>\n",
       "      <td>0</td>\n",
       "      <td>0</td>\n",
       "      <td>0</td>\n",
       "      <td>0</td>\n",
       "      <td>0</td>\n",
       "      <td>0</td>\n",
       "      <td>0</td>\n",
       "      <td>...</td>\n",
       "      <td>0</td>\n",
       "      <td>0</td>\n",
       "      <td>0</td>\n",
       "      <td>1</td>\n",
       "      <td>0</td>\n",
       "      <td>0</td>\n",
       "      <td>0</td>\n",
       "      <td>0</td>\n",
       "      <td>0</td>\n",
       "      <td>0</td>\n",
       "    </tr>\n",
       "    <tr>\n",
       "      <th>256582</th>\n",
       "      <td>0</td>\n",
       "      <td>0</td>\n",
       "      <td>1</td>\n",
       "      <td>0</td>\n",
       "      <td>0</td>\n",
       "      <td>0</td>\n",
       "      <td>0</td>\n",
       "      <td>0</td>\n",
       "      <td>0</td>\n",
       "      <td>0</td>\n",
       "      <td>...</td>\n",
       "      <td>0</td>\n",
       "      <td>0</td>\n",
       "      <td>0</td>\n",
       "      <td>0</td>\n",
       "      <td>1</td>\n",
       "      <td>0</td>\n",
       "      <td>0</td>\n",
       "      <td>0</td>\n",
       "      <td>0</td>\n",
       "      <td>0</td>\n",
       "    </tr>\n",
       "    <tr>\n",
       "      <th>66275</th>\n",
       "      <td>0</td>\n",
       "      <td>0</td>\n",
       "      <td>0</td>\n",
       "      <td>1</td>\n",
       "      <td>0</td>\n",
       "      <td>0</td>\n",
       "      <td>0</td>\n",
       "      <td>0</td>\n",
       "      <td>0</td>\n",
       "      <td>0</td>\n",
       "      <td>...</td>\n",
       "      <td>0</td>\n",
       "      <td>0</td>\n",
       "      <td>0</td>\n",
       "      <td>0</td>\n",
       "      <td>0</td>\n",
       "      <td>1</td>\n",
       "      <td>0</td>\n",
       "      <td>0</td>\n",
       "      <td>0</td>\n",
       "      <td>0</td>\n",
       "    </tr>\n",
       "    <tr>\n",
       "      <th>121712</th>\n",
       "      <td>0</td>\n",
       "      <td>0</td>\n",
       "      <td>0</td>\n",
       "      <td>0</td>\n",
       "      <td>1</td>\n",
       "      <td>0</td>\n",
       "      <td>0</td>\n",
       "      <td>0</td>\n",
       "      <td>0</td>\n",
       "      <td>0</td>\n",
       "      <td>...</td>\n",
       "      <td>0</td>\n",
       "      <td>0</td>\n",
       "      <td>0</td>\n",
       "      <td>1</td>\n",
       "      <td>0</td>\n",
       "      <td>0</td>\n",
       "      <td>0</td>\n",
       "      <td>0</td>\n",
       "      <td>0</td>\n",
       "      <td>0</td>\n",
       "    </tr>\n",
       "  </tbody>\n",
       "</table>\n",
       "<p>5 rows × 75 columns</p>\n",
       "</div>"
      ],
      "text/plain": [
       "        ViolationCode_10B  ViolationCode_04H  ViolationCode_10F  \\\n",
       "234299                  1                  0                  0   \n",
       "309886                  0                  1                  0   \n",
       "256582                  0                  0                  1   \n",
       "66275                   0                  0                  0   \n",
       "121712                  0                  0                  0   \n",
       "\n",
       "        ViolationCode_10J  ViolationCode_06E  ViolationCode_08A  \\\n",
       "234299                  0                  0                  0   \n",
       "309886                  0                  0                  0   \n",
       "256582                  0                  0                  0   \n",
       "66275                   1                  0                  0   \n",
       "121712                  0                  1                  0   \n",
       "\n",
       "        ViolationCode_04N  ViolationCode_09C  ViolationCode_04M  \\\n",
       "234299                  0                  0                  0   \n",
       "309886                  0                  0                  0   \n",
       "256582                  0                  0                  0   \n",
       "66275                   0                  0                  0   \n",
       "121712                  0                  0                  0   \n",
       "\n",
       "        ViolationCode_06C  ...  Grade_B  Grade_N  Grade_C  \\\n",
       "234299                  0  ...        0        0        0   \n",
       "309886                  0  ...        0        0        0   \n",
       "256582                  0  ...        0        0        0   \n",
       "66275                   0  ...        0        0        0   \n",
       "121712                  0  ...        0        0        0   \n",
       "\n",
       "        InspectionType_Cycle Inspection / Initial Inspection  \\\n",
       "234299                                                  1      \n",
       "309886                                                  1      \n",
       "256582                                                  0      \n",
       "66275                                                   0      \n",
       "121712                                                  1      \n",
       "\n",
       "        InspectionType_Cycle Inspection / Re-inspection  \\\n",
       "234299                                                0   \n",
       "309886                                                0   \n",
       "256582                                                1   \n",
       "66275                                                 0   \n",
       "121712                                                0   \n",
       "\n",
       "        InspectionType_Pre-permit (Operational) / Reopening Inspection  \\\n",
       "234299                                                  0                \n",
       "309886                                                  0                \n",
       "256582                                                  0                \n",
       "66275                                                   1                \n",
       "121712                                                  0                \n",
       "\n",
       "        InspectionType_Pre-permit (Operational) / Initial Inspection  \\\n",
       "234299                                                  0              \n",
       "309886                                                  0              \n",
       "256582                                                  0              \n",
       "66275                                                   0              \n",
       "121712                                                  0              \n",
       "\n",
       "        InspectionType_Cycle Inspection / Reopening Inspection  \\\n",
       "234299                                                  0        \n",
       "309886                                                  0        \n",
       "256582                                                  0        \n",
       "66275                                                   0        \n",
       "121712                                                  0        \n",
       "\n",
       "        InspectionType_Pre-permit (Operational) / Re-inspection  \\\n",
       "234299                                                  0         \n",
       "309886                                                  0         \n",
       "256582                                                  0         \n",
       "66275                                                   0         \n",
       "121712                                                  0         \n",
       "\n",
       "        InspectionType_Pre-permit (Non-operational)  \n",
       "234299                                            0  \n",
       "309886                                            0  \n",
       "256582                                            0  \n",
       "66275                                             0  \n",
       "121712                                            0  \n",
       "\n",
       "[5 rows x 75 columns]"
      ]
     },
     "execution_count": 9,
     "metadata": {},
     "output_type": "execute_result"
    }
   ],
   "source": [
    "X_test_ohe = ohe.fit_transform(X_test)\n",
    "X_test_ohe.head()"
   ]
  },
  {
   "cell_type": "code",
   "execution_count": 10,
   "metadata": {},
   "outputs": [
    {
     "data": {
      "text/plain": [
       "LogisticRegression(C=1000000000000.0, fit_intercept=False, solver='liblinear')"
      ]
     },
     "execution_count": 10,
     "metadata": {},
     "output_type": "execute_result"
    }
   ],
   "source": [
    "# Instantiate the model\n",
    "logreg = LogisticRegression(fit_intercept=False, C=1e12, solver='liblinear')\n",
    "\n",
    "# Fit the model\n",
    "logreg.fit(X_train_ohe, y_train_le)"
   ]
  },
  {
   "cell_type": "markdown",
   "metadata": {},
   "source": [
    "### Predict"
   ]
  },
  {
   "cell_type": "code",
   "execution_count": 11,
   "metadata": {},
   "outputs": [],
   "source": [
    "# Generate predictions\n",
    "y_hat_train = logreg.predict(X_train_ohe)\n",
    "y_hat_test = logreg.predict(X_test_ohe)"
   ]
  },
  {
   "cell_type": "markdown",
   "metadata": {},
   "source": [
    "### Comparing Train and Test results"
   ]
  },
  {
   "cell_type": "code",
   "execution_count": 12,
   "metadata": {},
   "outputs": [
    {
     "name": "stdout",
     "output_type": "stream",
     "text": [
      "0    117697\n",
      "dtype: int64\n",
      "------------------------------------\n",
      "0    1.0\n",
      "dtype: float64\n"
     ]
    }
   ],
   "source": [
    "residuals = np.abs(y_train_le - y_hat_train)\n",
    "print(pd.Series(residuals).value_counts())\n",
    "print('------------------------------------')\n",
    "print(pd.Series(residuals).value_counts(normalize=True))"
   ]
  },
  {
   "cell_type": "code",
   "execution_count": 13,
   "metadata": {},
   "outputs": [
    {
     "name": "stdout",
     "output_type": "stream",
     "text": [
      "0    49355\n",
      "1    29110\n",
      "dtype: int64\n",
      "------------------------------------\n",
      "0    0.629007\n",
      "1    0.370993\n",
      "dtype: float64\n"
     ]
    }
   ],
   "source": [
    "residuals = np.abs(y_test_le - y_hat_test)\n",
    "print(pd.Series(residuals).value_counts())\n",
    "print('------------------------------------')\n",
    "print(pd.Series(residuals).value_counts(normalize=True))"
   ]
  },
  {
   "cell_type": "markdown",
   "metadata": {},
   "source": [
    "### Confusion Matrix"
   ]
  },
  {
   "cell_type": "markdown",
   "metadata": {},
   "source": [
    "For our problem, I think it is False negatives that we need to watch out for, since we never want to predict a True Critical Flag as Non-Critical."
   ]
  },
  {
   "cell_type": "code",
   "execution_count": 14,
   "metadata": {},
   "outputs": [
    {
     "data": {
      "image/png": "[encoded data removed]",
      "text/plain": [
       "<Figure size 432x288 with 2 Axes>"
      ]
     },
     "metadata": {
      "needs_background": "light"
     },
     "output_type": "display_data"
    }
   ],
   "source": [
    "plot_confusion_matrix(logreg, X_test_ohe, y_test_le,\n",
    "                     cmap=plt.cm.Blues)\n",
    "plt.show()"
   ]
  },
  {
   "cell_type": "markdown",
   "metadata": {},
   "source": [
    "### Evaluation Metrics\n",
    "Out of all the predictions our model made, what percentage were correct"
   ]
  },
  {
   "cell_type": "markdown",
   "metadata": {},
   "source": [
    "* Ideally, we want 'recall' high and 'precision' low in the sense that it will be better to predict a CriticalFlag as positive when it's negative."
   ]
  },
  {
   "cell_type": "code",
   "execution_count": 15,
   "metadata": {},
   "outputs": [
    {
     "name": "stdout",
     "output_type": "stream",
     "text": [
      "Training Precision:  1.0\n",
      "Testing Precision:  0.638838286576797\n",
      "\n",
      "\n",
      "\n",
      "Training Recall:  1.0\n",
      "Testing Recall:  0.6170940170940171\n",
      "\n",
      "\n",
      "\n",
      "Training Accuracy:  1.0\n",
      "Testing Accuracy:  0.6290065634359269\n",
      "\n",
      "\n",
      "\n",
      "Training F1-Score:  1.0\n",
      "Testing F1-Score:  0.6277779198526967\n"
     ]
    }
   ],
   "source": [
    "print('Training Precision: ', precision_score(y_train_le, y_hat_train))\n",
    "print('Testing Precision: ', precision_score(y_test_le, y_hat_test))\n",
    "print('\\n\\n')\n",
    "\n",
    "print('Training Recall: ', recall_score(y_train_le, y_hat_train))\n",
    "print('Testing Recall: ', recall_score(y_test_le, y_hat_test))\n",
    "print('\\n\\n')\n",
    "\n",
    "print('Training Accuracy: ', accuracy_score(y_train_le, y_hat_train))\n",
    "print('Testing Accuracy: ', accuracy_score(y_test_le, y_hat_test))\n",
    "print('\\n\\n')\n",
    "\n",
    "print('Training F1-Score: ', f1_score(y_train_le, y_hat_train))\n",
    "print('Testing F1-Score: ', f1_score(y_test_le, y_hat_test))"
   ]
  },
  {
   "cell_type": "code",
   "execution_count": 16,
   "metadata": {},
   "outputs": [
    {
     "name": "stdout",
     "output_type": "stream",
     "text": [
      "AUC: 0.7585566265227784\n"
     ]
    }
   ],
   "source": [
    "y_score = logreg.fit(X_train_ohe, y_train_le).decision_function(X_test_ohe)\n",
    "\n",
    "fpr, tpr, thresholds = roc_curve(y_test_le, y_score)\n",
    "\n",
    "print('AUC: {}'.format(auc(fpr, tpr)))"
   ]
  },
  {
   "cell_type": "code",
   "execution_count": 17,
   "metadata": {},
   "outputs": [
    {
     "name": "stdout",
     "output_type": "stream",
     "text": [
      "AUC: 0.7585566265227784\n"
     ]
    },
    {
     "data": {
      "image/png": "[encoded data removed]",
      "text/plain": [
       "<Figure size 720x576 with 1 Axes>"
      ]
     },
     "metadata": {},
     "output_type": "display_data"
    }
   ],
   "source": [
    "sns.set_style('darkgrid', {'axes.facecolor': '0.9'})\n",
    "\n",
    "print('AUC: {}'.format(auc(fpr, tpr)))\n",
    "plt.figure(figsize=(10, 8))\n",
    "lw = 2\n",
    "plt.plot(fpr, tpr, color='darkorange',\n",
    "         lw=lw, label='ROC curve')\n",
    "plt.plot([0, 1], [0, 1], color='navy', lw=lw, linestyle='--')\n",
    "plt.xlim([0.0, 1.0])\n",
    "plt.ylim([0.0, 1.05])\n",
    "plt.yticks([i/20.0 for i in range(21)])\n",
    "plt.xticks([i/20.0 for i in range(21)])\n",
    "plt.xlabel('False Positive Rate')\n",
    "plt.ylabel('True Positive Rate')\n",
    "plt.title('Receiver operating characteristic (ROC) Curve')\n",
    "plt.legend(loc='lower right')\n",
    "plt.show()"
   ]
  },
  {
   "cell_type": "code",
   "execution_count": null,
   "metadata": {},
   "outputs": [],
   "source": []
  }
 ],
 "metadata": {
  "kernelspec": {
   "display_name": "Python 3",
   "language": "python",
   "name": "python3"
  },
  "language_info": {
   "codemirror_mode": {
    "name": "ipython",
    "version": 3
   },
   "file_extension": ".py",
   "mimetype": "text/x-python",
   "name": "python",
   "nbconvert_exporter": "python",
   "pygments_lexer": "ipython3",
   "version": "3.6.9"
  }
 },
 "nbformat": 4,
 "nbformat_minor": 4
}
