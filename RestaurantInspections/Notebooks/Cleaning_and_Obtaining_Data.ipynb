{
 "cells": [
  {
   "cell_type": "markdown",
   "metadata": {},
   "source": [
    "## NYC RESTAURANT INSPECTION RESULTS \n",
    "\n",
    "* Student Name: Andrea Cabello\n",
    "* Full Time Online Student\n",
    "* Instructor Name:Rafael Carrasco"
   ]
  },
  {
   "cell_type": "markdown",
   "metadata": {},
   "source": [
    "### I. Overview"
   ]
  },
  {
   "cell_type": "markdown",
   "metadata": {},
   "source": [
    "* The dataset contains every sustained or not yet adjudicated violation citation from every inspection conducted up to three years prior to the most recent inspection for restaurants and college cafeterias in an active status on the RECORD DATE (11/04/2020). \n",
    "* When an inspection results in more than one violation, values for associated fields are repeated for each additional violation record. \n",
    "* Establishments are uniquely identified by their CAMIS (record ID) number. Keep in mind that thousands of restaurants start business and go out of business every year; only restaurants in an active status are included in the dataset.\n",
    "* Records are also included for each restaurant that has applied for a permit but has not yet been inspected and for inspections resulting in no violations. Establishments with inspection date of 1/1/1900 are new establishments that have not yet received an inspection. \n",
    "* Restaurants that received no violations are represented by a single row and coded as having no violations using the ACTION field.\n",
    "* Because this dataset is compiled from several large administrative data systems, it contains some illogical values that could be a result of data entry or transfer errors. Data may also be missing.\n",
    "* This dataset and the information on the Health Department’s Restaurant Grading website come from the same data source. The Health Department’s Restaurant Grading website is here:\n",
    "http://www1.nyc.gov/site/doh/services/restaurant-grades.page\n",
    "* The Health Department's Violation Description is here: https://www1.nyc.gov/assets/doh/downloads/pdf/rii/enforcement-guidelines.pdf\n",
    "* See the data dictionary file in the Data folder for a summary of data fields and allowable values."
   ]
  },
  {
   "cell_type": "markdown",
   "metadata": {},
   "source": [
    "### II. Business Problem\n",
    "\n",
    "Let's start with our usual preliminary list of questions to get a better idea of what type of insight we could obtain from our data.\n",
    "* What violations are committed the most?  \n",
    "* What Businesses are falling in a violation the most? Number of Violations by DBA\n",
    "* Number of Violation by Camis.\n",
    "* Inspection type: How many inspections does a business get? \n",
    "* Count of type of inspection visualization x= type of inspection y=q\n",
    "* Critical Flag\n",
    "* Which Boro has the most violations in record? How about Violations by Council?\n",
    "* Relationship between total number of violations and critical flag\n",
    "* Total Violations per year\n",
    "* How many restaurants had X number of violations\n",
    "* Build a chart x = grade, y = total of restaurants per grade.\n",
    "* Action taken by the DOH visualization.\n"
   ]
  },
  {
   "cell_type": "code",
   "execution_count": 1,
   "metadata": {},
   "outputs": [],
   "source": [
    "import numpy as np\n",
    "import pandas as pd"
   ]
  },
  {
   "cell_type": "code",
   "execution_count": 2,
   "metadata": {},
   "outputs": [
    {
     "name": "stdout",
     "output_type": "stream",
     "text": [
      "<class 'pandas.core.frame.DataFrame'>\n",
      "RangeIndex: 400146 entries, 0 to 400145\n",
      "Data columns (total 26 columns):\n",
      " #   Column                 Non-Null Count   Dtype  \n",
      "---  ------                 --------------   -----  \n",
      " 0   CAMIS                  400146 non-null  int64  \n",
      " 1   DBA                    399621 non-null  object \n",
      " 2   BORO                   400146 non-null  object \n",
      " 3   BUILDING               398908 non-null  object \n",
      " 4   STREET                 400061 non-null  object \n",
      " 5   ZIPCODE                393418 non-null  float64\n",
      " 6   PHONE                  400126 non-null  object \n",
      " 7   CUISINE DESCRIPTION    400146 non-null  object \n",
      " 8   INSPECTION DATE        400146 non-null  object \n",
      " 9   ACTION                 397402 non-null  object \n",
      " 10  VIOLATION CODE         393116 non-null  object \n",
      " 11  VIOLATION DESCRIPTION  389746 non-null  object \n",
      " 12  CRITICAL FLAG          389746 non-null  object \n",
      " 13  SCORE                  382023 non-null  float64\n",
      " 14  GRADE                  202256 non-null  object \n",
      " 15  GRADE DATE             199732 non-null  object \n",
      " 16  RECORD DATE            400146 non-null  object \n",
      " 17  INSPECTION TYPE        397402 non-null  object \n",
      " 18  Latitude               398534 non-null  float64\n",
      " 19  Longitude              398534 non-null  float64\n",
      " 20  Community Board        391927 non-null  float64\n",
      " 21  Council District       391927 non-null  float64\n",
      " 22  Census Tract           391927 non-null  float64\n",
      " 23  BIN                    390146 non-null  float64\n",
      " 24  BBL                    398534 non-null  float64\n",
      " 25  NTA                    391927 non-null  object \n",
      "dtypes: float64(9), int64(1), object(16)\n",
      "memory usage: 79.4+ MB\n"
     ]
    },
    {
     "data": {
      "text/html": [
       "<div>\n",
       "<style scoped>\n",
       "    .dataframe tbody tr th:only-of-type {\n",
       "        vertical-align: middle;\n",
       "    }\n",
       "\n",
       "    .dataframe tbody tr th {\n",
       "        vertical-align: top;\n",
       "    }\n",
       "\n",
       "    .dataframe thead th {\n",
       "        text-align: right;\n",
       "    }\n",
       "</style>\n",
       "<table border=\"1\" class=\"dataframe\">\n",
       "  <thead>\n",
       "    <tr style=\"text-align: right;\">\n",
       "      <th></th>\n",
       "      <th>CAMIS</th>\n",
       "      <th>DBA</th>\n",
       "      <th>BORO</th>\n",
       "      <th>BUILDING</th>\n",
       "      <th>STREET</th>\n",
       "      <th>ZIPCODE</th>\n",
       "      <th>PHONE</th>\n",
       "      <th>CUISINE DESCRIPTION</th>\n",
       "      <th>INSPECTION DATE</th>\n",
       "      <th>ACTION</th>\n",
       "      <th>...</th>\n",
       "      <th>RECORD DATE</th>\n",
       "      <th>INSPECTION TYPE</th>\n",
       "      <th>Latitude</th>\n",
       "      <th>Longitude</th>\n",
       "      <th>Community Board</th>\n",
       "      <th>Council District</th>\n",
       "      <th>Census Tract</th>\n",
       "      <th>BIN</th>\n",
       "      <th>BBL</th>\n",
       "      <th>NTA</th>\n",
       "    </tr>\n",
       "  </thead>\n",
       "  <tbody>\n",
       "    <tr>\n",
       "      <th>0</th>\n",
       "      <td>40750285</td>\n",
       "      <td>CROSSROADS (MARRIOTT MARQUIS)</td>\n",
       "      <td>Manhattan</td>\n",
       "      <td>1535</td>\n",
       "      <td>BROADWAY</td>\n",
       "      <td>10036.0</td>\n",
       "      <td>2123981900</td>\n",
       "      <td>American</td>\n",
       "      <td>11/02/2018</td>\n",
       "      <td>Violations were cited in the following area(s).</td>\n",
       "      <td>...</td>\n",
       "      <td>11/04/2020</td>\n",
       "      <td>Cycle Inspection / Initial Inspection</td>\n",
       "      <td>40.758260</td>\n",
       "      <td>-73.985468</td>\n",
       "      <td>105.0</td>\n",
       "      <td>3.0</td>\n",
       "      <td>11900.0</td>\n",
       "      <td>1024727.0</td>\n",
       "      <td>1.010170e+09</td>\n",
       "      <td>MN17</td>\n",
       "    </tr>\n",
       "    <tr>\n",
       "      <th>1</th>\n",
       "      <td>50053206</td>\n",
       "      <td>PESCADA NEW YORK</td>\n",
       "      <td>Brooklyn</td>\n",
       "      <td>1776</td>\n",
       "      <td>OCEAN AVENUE</td>\n",
       "      <td>11230.0</td>\n",
       "      <td>7187662759</td>\n",
       "      <td>Jewish/Kosher</td>\n",
       "      <td>08/16/2018</td>\n",
       "      <td>Violations were cited in the following area(s).</td>\n",
       "      <td>...</td>\n",
       "      <td>11/04/2020</td>\n",
       "      <td>Pre-permit (Operational) / Compliance Inspection</td>\n",
       "      <td>40.618980</td>\n",
       "      <td>-73.955129</td>\n",
       "      <td>314.0</td>\n",
       "      <td>48.0</td>\n",
       "      <td>53800.0</td>\n",
       "      <td>3180746.0</td>\n",
       "      <td>3.067390e+09</td>\n",
       "      <td>BK43</td>\n",
       "    </tr>\n",
       "    <tr>\n",
       "      <th>2</th>\n",
       "      <td>50055882</td>\n",
       "      <td>GARDENIA TERRACE</td>\n",
       "      <td>Manhattan</td>\n",
       "      <td>826</td>\n",
       "      <td>10 AVENUE</td>\n",
       "      <td>10019.0</td>\n",
       "      <td>2123340489</td>\n",
       "      <td>Mediterranean</td>\n",
       "      <td>10/09/2018</td>\n",
       "      <td>Violations were cited in the following area(s).</td>\n",
       "      <td>...</td>\n",
       "      <td>11/04/2020</td>\n",
       "      <td>Cycle Inspection / Re-inspection</td>\n",
       "      <td>40.767615</td>\n",
       "      <td>-73.989635</td>\n",
       "      <td>104.0</td>\n",
       "      <td>3.0</td>\n",
       "      <td>13900.0</td>\n",
       "      <td>1026807.0</td>\n",
       "      <td>1.010640e+09</td>\n",
       "      <td>MN15</td>\n",
       "    </tr>\n",
       "    <tr>\n",
       "      <th>3</th>\n",
       "      <td>50054452</td>\n",
       "      <td>CHICK-FIL-A QUEENS CENTER MALL</td>\n",
       "      <td>Queens</td>\n",
       "      <td>90-15</td>\n",
       "      <td>QUEENS BOULEVARD</td>\n",
       "      <td>11373.0</td>\n",
       "      <td>7182711755</td>\n",
       "      <td>American</td>\n",
       "      <td>01/09/2018</td>\n",
       "      <td>Violations were cited in the following area(s).</td>\n",
       "      <td>...</td>\n",
       "      <td>11/04/2020</td>\n",
       "      <td>Cycle Inspection / Initial Inspection</td>\n",
       "      <td>40.733840</td>\n",
       "      <td>-73.871577</td>\n",
       "      <td>404.0</td>\n",
       "      <td>25.0</td>\n",
       "      <td>68300.0</td>\n",
       "      <td>4045999.0</td>\n",
       "      <td>4.018600e+09</td>\n",
       "      <td>QN29</td>\n",
       "    </tr>\n",
       "    <tr>\n",
       "      <th>4</th>\n",
       "      <td>50079461</td>\n",
       "      <td>TEPPEN RAMEN</td>\n",
       "      <td>Manhattan</td>\n",
       "      <td>159</td>\n",
       "      <td>EAST   55 STREET</td>\n",
       "      <td>10022.0</td>\n",
       "      <td>2123552974</td>\n",
       "      <td>Japanese</td>\n",
       "      <td>12/20/2018</td>\n",
       "      <td>Violations were cited in the following area(s).</td>\n",
       "      <td>...</td>\n",
       "      <td>11/04/2020</td>\n",
       "      <td>Pre-permit (Operational) / Second Compliance I...</td>\n",
       "      <td>40.759346</td>\n",
       "      <td>-73.969415</td>\n",
       "      <td>106.0</td>\n",
       "      <td>4.0</td>\n",
       "      <td>10000.0</td>\n",
       "      <td>1036532.0</td>\n",
       "      <td>1.013100e+09</td>\n",
       "      <td>MN19</td>\n",
       "    </tr>\n",
       "  </tbody>\n",
       "</table>\n",
       "<p>5 rows × 26 columns</p>\n",
       "</div>"
      ],
      "text/plain": [
       "      CAMIS                             DBA       BORO BUILDING  \\\n",
       "0  40750285   CROSSROADS (MARRIOTT MARQUIS)  Manhattan     1535   \n",
       "1  50053206                PESCADA NEW YORK   Brooklyn     1776   \n",
       "2  50055882                GARDENIA TERRACE  Manhattan      826   \n",
       "3  50054452  CHICK-FIL-A QUEENS CENTER MALL     Queens    90-15   \n",
       "4  50079461                    TEPPEN RAMEN  Manhattan      159   \n",
       "\n",
       "             STREET  ZIPCODE       PHONE CUISINE DESCRIPTION INSPECTION DATE  \\\n",
       "0          BROADWAY  10036.0  2123981900            American      11/02/2018   \n",
       "1      OCEAN AVENUE  11230.0  7187662759       Jewish/Kosher      08/16/2018   \n",
       "2         10 AVENUE  10019.0  2123340489       Mediterranean      10/09/2018   \n",
       "3  QUEENS BOULEVARD  11373.0  7182711755            American      01/09/2018   \n",
       "4  EAST   55 STREET  10022.0  2123552974            Japanese      12/20/2018   \n",
       "\n",
       "                                            ACTION  ... RECORD DATE  \\\n",
       "0  Violations were cited in the following area(s).  ...  11/04/2020   \n",
       "1  Violations were cited in the following area(s).  ...  11/04/2020   \n",
       "2  Violations were cited in the following area(s).  ...  11/04/2020   \n",
       "3  Violations were cited in the following area(s).  ...  11/04/2020   \n",
       "4  Violations were cited in the following area(s).  ...  11/04/2020   \n",
       "\n",
       "                                     INSPECTION TYPE   Latitude  Longitude  \\\n",
       "0              Cycle Inspection / Initial Inspection  40.758260 -73.985468   \n",
       "1   Pre-permit (Operational) / Compliance Inspection  40.618980 -73.955129   \n",
       "2                   Cycle Inspection / Re-inspection  40.767615 -73.989635   \n",
       "3              Cycle Inspection / Initial Inspection  40.733840 -73.871577   \n",
       "4  Pre-permit (Operational) / Second Compliance I...  40.759346 -73.969415   \n",
       "\n",
       "  Community Board Council District Census Tract        BIN           BBL   NTA  \n",
       "0           105.0              3.0      11900.0  1024727.0  1.010170e+09  MN17  \n",
       "1           314.0             48.0      53800.0  3180746.0  3.067390e+09  BK43  \n",
       "2           104.0              3.0      13900.0  1026807.0  1.010640e+09  MN15  \n",
       "3           404.0             25.0      68300.0  4045999.0  4.018600e+09  QN29  \n",
       "4           106.0              4.0      10000.0  1036532.0  1.013100e+09  MN19  \n",
       "\n",
       "[5 rows x 26 columns]"
      ]
     },
     "execution_count": 2,
     "metadata": {},
     "output_type": "execute_result"
    }
   ],
   "source": [
    "df = pd.read_csv('../Data/DOHMH_New_York_City_Restaurant_Inspection_Results.zip')\n",
    "df.info()\n",
    "df.head()"
   ]
  },
  {
   "cell_type": "markdown",
   "metadata": {},
   "source": [
    "Let's begin by dropping the columns we don't think will be of use."
   ]
  },
  {
   "cell_type": "code",
   "execution_count": 3,
   "metadata": {},
   "outputs": [],
   "source": [
    "df = df.drop(columns=[\n",
    "    'PHONE', 'BUILDING', 'STREET', 'RECORD DATE', 'GRADE DATE',\n",
    "    'Community Board', 'Census Tract', 'BIN', 'BBL', 'NTA',\n",
    "    'SCORE'])"
   ]
  },
  {
   "cell_type": "code",
   "execution_count": 4,
   "metadata": {
    "scrolled": true
   },
   "outputs": [
    {
     "name": "stdout",
     "output_type": "stream",
     "text": [
      "<class 'pandas.core.frame.DataFrame'>\n",
      "RangeIndex: 400146 entries, 0 to 400145\n",
      "Data columns (total 15 columns):\n",
      " #   Column                 Non-Null Count   Dtype  \n",
      "---  ------                 --------------   -----  \n",
      " 0   CAMIS                  400146 non-null  int64  \n",
      " 1   DBA                    399621 non-null  object \n",
      " 2   BORO                   400146 non-null  object \n",
      " 3   ZIPCODE                393418 non-null  float64\n",
      " 4   CUISINE DESCRIPTION    400146 non-null  object \n",
      " 5   INSPECTION DATE        400146 non-null  object \n",
      " 6   ACTION                 397402 non-null  object \n",
      " 7   VIOLATION CODE         393116 non-null  object \n",
      " 8   VIOLATION DESCRIPTION  389746 non-null  object \n",
      " 9   CRITICAL FLAG          389746 non-null  object \n",
      " 10  GRADE                  202256 non-null  object \n",
      " 11  INSPECTION TYPE        397402 non-null  object \n",
      " 12  Latitude               398534 non-null  float64\n",
      " 13  Longitude              398534 non-null  float64\n",
      " 14  Council District       391927 non-null  float64\n",
      "dtypes: float64(4), int64(1), object(10)\n",
      "memory usage: 45.8+ MB\n"
     ]
    }
   ],
   "source": [
    "df.info()"
   ]
  },
  {
   "cell_type": "markdown",
   "metadata": {},
   "source": [
    "Now, let's get rid of all null values and work on the format of the column names."
   ]
  },
  {
   "cell_type": "code",
   "execution_count": 5,
   "metadata": {},
   "outputs": [],
   "source": [
    "df = df.dropna()\n",
    "df = df.rename(columns={'CUISINE DESCRIPTION': 'Cuisine'})\n",
    "df.columns = df.columns.str.title()\n",
    "df.columns = df.columns.str.replace(' ', '')\n",
    "df['Camis'] = df.Camis.astype('str')\n",
    "df['Zipcode']= df.Zipcode.astype('str')"
   ]
  },
  {
   "cell_type": "code",
   "execution_count": 6,
   "metadata": {},
   "outputs": [
    {
     "name": "stdout",
     "output_type": "stream",
     "text": [
      "<class 'pandas.core.frame.DataFrame'>\n",
      "Int64Index: 196162 entries, 2 to 400145\n",
      "Data columns (total 15 columns):\n",
      " #   Column                Non-Null Count   Dtype  \n",
      "---  ------                --------------   -----  \n",
      " 0   Camis                 196162 non-null  object \n",
      " 1   Dba                   196162 non-null  object \n",
      " 2   Boro                  196162 non-null  object \n",
      " 3   Zipcode               196162 non-null  object \n",
      " 4   Cuisine               196162 non-null  object \n",
      " 5   InspectionDate        196162 non-null  object \n",
      " 6   Action                196162 non-null  object \n",
      " 7   ViolationCode         196162 non-null  object \n",
      " 8   ViolationDescription  196162 non-null  object \n",
      " 9   CriticalFlag          196162 non-null  object \n",
      " 10  Grade                 196162 non-null  object \n",
      " 11  InspectionType        196162 non-null  object \n",
      " 12  Latitude              196162 non-null  float64\n",
      " 13  Longitude             196162 non-null  float64\n",
      " 14  CouncilDistrict       196162 non-null  float64\n",
      "dtypes: float64(3), object(12)\n",
      "memory usage: 23.9+ MB\n"
     ]
    }
   ],
   "source": [
    "df.info()"
   ]
  },
  {
   "cell_type": "markdown",
   "metadata": {},
   "source": [
    "Now that we have our data mostly clean, let's take a closer look at our Features and Target."
   ]
  },
  {
   "cell_type": "markdown",
   "metadata": {},
   "source": [
    "### FEATURES"
   ]
  },
  {
   "cell_type": "markdown",
   "metadata": {},
   "source": [
    "### * Camis \n",
    "Unique ID number per restaurant permit."
   ]
  },
  {
   "cell_type": "code",
   "execution_count": 7,
   "metadata": {},
   "outputs": [
    {
     "data": {
      "text/plain": [
       "count    25247.000000\n",
       "mean         7.769715\n",
       "std          4.315377\n",
       "min          1.000000\n",
       "25%          5.000000\n",
       "50%          7.000000\n",
       "75%         10.000000\n",
       "max         46.000000\n",
       "Name: Camis, dtype: float64"
      ]
     },
     "execution_count": 7,
     "metadata": {},
     "output_type": "execute_result"
    }
   ],
   "source": [
    "df['Camis'].value_counts().describe()"
   ]
  },
  {
   "cell_type": "markdown",
   "metadata": {},
   "source": [
    "### * Dba \n",
    "Commercial name used by the establishment(doing business as)."
   ]
  },
  {
   "cell_type": "code",
   "execution_count": 8,
   "metadata": {},
   "outputs": [
    {
     "data": {
      "text/plain": [
       "count    20316.000000\n",
       "mean         9.655542\n",
       "std         30.535983\n",
       "min          1.000000\n",
       "25%          5.000000\n",
       "50%          8.000000\n",
       "75%         11.000000\n",
       "max       2789.000000\n",
       "Name: Dba, dtype: float64"
      ]
     },
     "execution_count": 8,
     "metadata": {},
     "output_type": "execute_result"
    }
   ],
   "source": [
    "df['Dba'].value_counts().describe()"
   ]
  },
  {
   "cell_type": "code",
   "execution_count": 9,
   "metadata": {},
   "outputs": [
    {
     "data": {
      "text/plain": [
       "20316"
      ]
     },
     "execution_count": 9,
     "metadata": {},
     "output_type": "execute_result"
    }
   ],
   "source": [
    "df['Dba'].nunique()"
   ]
  },
  {
   "cell_type": "code",
   "execution_count": 10,
   "metadata": {},
   "outputs": [],
   "source": [
    "df['Dba'] = df['Dba'].replace(\n",
    "    to_replace=[\"DUNKIN', BASKIN ROBBINS\", \"DUNKIN' DONUTS\", 'DUNKIN'], value=\"DUNKIN'\")\n",
    "\n",
    "df['Dba'] = df['Dba'].replace(\n",
    "    to_replace=[\"STARBUCKS COFFEE\"], value=\"STARBUCKS\")\n",
    "\n",
    "df['Dba'] = df['Dba'].replace(\n",
    "    to_replace=[\"MCDONALD'S\"], value=\"MCDONALDS\")\n",
    "\n",
    "df['Dba'] = df['Dba'].replace(\n",
    "    to_replace=[\"GOLDEN KRUST CARIBBEAN BAKERY & GRILL\"], value=\"GOLDEN KRUST\")\n",
    "\n",
    "df['Dba'] = df['Dba'].replace(\n",
    "    to_replace=[\"DOS TOROS\"], value=\"DOS TOROS TAQUERIA\")"
   ]
  },
  {
   "cell_type": "markdown",
   "metadata": {},
   "source": [
    "* The raw data presented contains one row per violation and there are 196162 total violations by 25247 unique restaurant establishments (Camis). \n",
    "* What if I summarize the total violations committed by each restaurant (Camis) and by Dba in  new features. \n",
    "* So I will have 'totalViolations_Dba'(continuous), 'TotalViolations_Camis'(continuous), 'Boro' (5categories),  'action'(5possible actions taken by the doh), 'cuisin type', 'grade'. "
   ]
  },
  {
   "cell_type": "markdown",
   "metadata": {},
   "source": [
    "### * Grade\n",
    "Every inspection results in a Grade. "
   ]
  },
  {
   "cell_type": "code",
   "execution_count": 11,
   "metadata": {},
   "outputs": [
    {
     "data": {
      "text/plain": [
       "A    154853\n",
       "B     25547\n",
       "C      9661\n",
       "N      2480\n",
       "P      2390\n",
       "Z      1225\n",
       "G         6\n",
       "Name: Grade, dtype: int64"
      ]
     },
     "execution_count": 11,
     "metadata": {},
     "output_type": "execute_result"
    }
   ],
   "source": [
    "df['Grade'].value_counts()\n",
    "#A, B, C, P, GROUP[Z,N,G] = 3795"
   ]
  },
  {
   "cell_type": "markdown",
   "metadata": {},
   "source": [
    "After reviewing the DataSet Description, I decided to group 'Z', 'G' and 'N' as \"Not Yet Graded\" and leave 'P' as \"Grade Pending issued on re-opening following an initial inspection that resulted in a closure\"."
   ]
  },
  {
   "cell_type": "code",
   "execution_count": 12,
   "metadata": {},
   "outputs": [],
   "source": [
    "df['Grade'] = df['Grade'].replace(to_replace=['Z', 'G'], value='N')"
   ]
  },
  {
   "cell_type": "markdown",
   "metadata": {},
   "source": [
    "As a result we have 5 classes and an obvious class imbalance, which in this case is natural and expected since we want every restaurant to get GRADE 'A'."
   ]
  },
  {
   "cell_type": "code",
   "execution_count": 13,
   "metadata": {},
   "outputs": [
    {
     "data": {
      "text/plain": [
       "A    154853\n",
       "B     25547\n",
       "C      9661\n",
       "N      3711\n",
       "P      2390\n",
       "Name: Grade, dtype: int64"
      ]
     },
     "execution_count": 13,
     "metadata": {},
     "output_type": "execute_result"
    }
   ],
   "source": [
    "df['Grade'].value_counts()"
   ]
  },
  {
   "cell_type": "markdown",
   "metadata": {},
   "source": [
    "### * Boro \n",
    "There are 5 boros in New York City:\n",
    "Manhattan · 2. Brooklyn · 3. Queens · 4. The Bronx · 5. Staten Island."
   ]
  },
  {
   "cell_type": "code",
   "execution_count": 14,
   "metadata": {},
   "outputs": [
    {
     "data": {
      "text/plain": [
       "Manhattan        76532\n",
       "Brooklyn         50007\n",
       "Queens           44790\n",
       "Bronx            18051\n",
       "Staten Island     6782\n",
       "Name: Boro, dtype: int64"
      ]
     },
     "execution_count": 14,
     "metadata": {},
     "output_type": "execute_result"
    }
   ],
   "source": [
    "df.Boro.value_counts()"
   ]
  },
  {
   "cell_type": "markdown",
   "metadata": {},
   "source": [
    "1. Manhattan · 2. Brooklyn · 3. Queens · 4. The Bronx · 5. Staten Island."
   ]
  },
  {
   "cell_type": "markdown",
   "metadata": {},
   "source": [
    "### * Cuisine"
   ]
  },
  {
   "cell_type": "code",
   "execution_count": 15,
   "metadata": {},
   "outputs": [
    {
     "data": {
      "text/plain": [
       "American              42148\n",
       "Chinese               20119\n",
       "Café/Coffee/Tea       10998\n",
       "Pizza                  8676\n",
       "Mexican                7950\n",
       "                      ...  \n",
       "Nuts/Confectionary       27\n",
       "Czech                    26\n",
       "Southwestern             20\n",
       "Chilean                  17\n",
       "Basque                    6\n",
       "Name: Cuisine, Length: 84, dtype: int64"
      ]
     },
     "execution_count": 15,
     "metadata": {},
     "output_type": "execute_result"
    }
   ],
   "source": [
    "df.Cuisine.value_counts()"
   ]
  },
  {
   "cell_type": "code",
   "execution_count": 16,
   "metadata": {},
   "outputs": [
    {
     "data": {
      "text/plain": [
       "array(['Mediterranean', 'American', 'Pizza/Italian', 'Italian',\n",
       "       'Australian', 'Pizza', 'Chinese/Japanese', 'Chinese', 'Bakery',\n",
       "       'Café/Coffee/Tea', 'Seafood',\n",
       "       'Latin (Cuban, Dominican, Puerto Rican, South & Central American)',\n",
       "       'Donuts', 'Tapas', 'Thai', 'Mexican', 'Korean', 'Chicken',\n",
       "       'Indian', 'Hamburgers', 'Asian', 'Spanish', 'Irish', 'Peruvian',\n",
       "       'Jewish/Kosher', 'Caribbean', 'Ice Cream, Gelato, Yogurt, Ices',\n",
       "       'Greek', 'Armenian', 'Delicatessen',\n",
       "       'Juice, Smoothies, Fruit Salads', 'Japanese', 'Pancakes/Waffles',\n",
       "       'African', 'Brazilian', 'Tex-Mex', 'French', 'Eastern European',\n",
       "       'Middle Eastern', 'Sandwiches', 'Soups & Sandwiches',\n",
       "       'Bagels/Pretzels',\n",
       "       'Bottled beverages, including water, sodas, juices, etc.',\n",
       "       'Soul Food', 'Vietnamese/Cambodian/Malaysia', 'Pakistani',\n",
       "       'Polish', 'Bangladeshi', 'Other', 'Moroccan',\n",
       "       'Sandwiches/Salads/Mixed Buffet', 'Steak', 'Hotdogs', 'Turkish',\n",
       "       'Continental', 'Russian', 'Vegetarian', 'Salads', 'Egyptian',\n",
       "       'Hawaiian', 'Filipino', 'Portuguese', 'Barbecue', 'German',\n",
       "       'Soups', 'Creole', 'Not Listed/Not Applicable', 'Chinese/Cuban',\n",
       "       'English', 'Indonesian', 'Hotdogs/Pretzels', 'Afghan', 'Iranian',\n",
       "       'Chilean', 'Cajun', 'Ethiopian', 'Southwestern', 'Creole/Cajun',\n",
       "       'Scandinavian', 'Czech', 'Nuts/Confectionary', 'Fruits/Vegetables',\n",
       "       'Californian', 'Basque'], dtype=object)"
      ]
     },
     "execution_count": 16,
     "metadata": {},
     "output_type": "execute_result"
    }
   ],
   "source": [
    "df.Cuisine.unique()"
   ]
  },
  {
   "cell_type": "markdown",
   "metadata": {},
   "source": [
    "Below we will summarize our Cuisine Categories as much as possible. We'll try to narrow 84 into 10-15 classes."
   ]
  },
  {
   "cell_type": "code",
   "execution_count": 17,
   "metadata": {},
   "outputs": [],
   "source": [
    "df['Cuisine'] = df['Cuisine'].replace(\n",
    "    to_replace=['Middle Eastern', 'Moroccan', 'Tapas', 'Spanish', 'Greek',\n",
    "                'Armenian', 'Basque', 'Ethiopian', 'Afghan', 'Iranian', \n",
    "                'Egyptian', 'Turkish', 'Pakistani', 'Eastern European'], \n",
    "                value='Mediterranean')\n",
    "\n",
    "df['Cuisine'] = df['Cuisine'].replace(\n",
    "    to_replace=['Australian', 'Scandinavian', 'Czech', 'English', 'German', \n",
    "                'Portuguese', 'Russian', 'Polish', 'Continental', 'Irish',\n",
    "                'French', 'Hawaiian'], value='International')\n",
    "\n",
    "df['Cuisine'] = df['Cuisine'].replace(\n",
    "    to_replace=['Pizza/Italian'], value='Pizza')\n",
    "\n",
    "df['Cuisine'] = df['Cuisine'].replace(\n",
    "    to_replace=['Chinese', 'Japanese','Chinese/Japanese', 'Filipino', 'Indian', \n",
    "                'Indonesian', 'Bangladeshi','Thai', 'Korean', 'Chinese/Cuban', \n",
    "                'Vietnamese/Cambodian/Malaysia'], value='Asian')\n",
    "\n",
    "df['Cuisine'] = df['Cuisine'].replace(\n",
    "    to_replace=['Bottled beverages, including water, sodas, juices, etc.', \n",
    "                'Café/Coffee/Tea'], value='Coffee/Beverages')\n",
    "\n",
    "df['Cuisine'] = df['Cuisine'].replace(\n",
    "    to_replace=['Bagels/Pretzels', 'Donuts'], value='Bakery')\n",
    "\n",
    "df['Cuisine'] = df['Cuisine'].replace(\n",
    "    to_replace=['Chilean','Peruvian', 'Caribbean', 'Brazilian',\n",
    "                'Latin (Cuban, Dominican, Puerto Rican, South & Central American)'],\n",
    "                value='Latin/Caribbean') \n",
    "\n",
    "df['Cuisine'] = df['Cuisine'].replace(\n",
    "    to_replace=['Ice Cream, Gelato, Yogurt, Ices','Seafood', 'Chicken', \n",
    "                'Nuts/Confectionary', 'Hotdogs/Pretzels', 'Hotdogs',\n",
    "                'Fruits/Vegetables', 'Vegetarian', 'Salads',\n",
    "                'Steak', 'Juice, Smoothies, Fruit Salads',  \n",
    "                'Pancakes/Waffles',  'Jewish/Kosher'], value='Specialty') \n",
    "\n",
    "df['Cuisine'] = df['Cuisine'].replace(\n",
    "    to_replace=['Sandwiches', 'Soups', 'Soup/Sandwiches'], \n",
    "                value='Soups & Sandwiches') \n",
    "\n",
    "df['Cuisine'] = df['Cuisine'].replace(\n",
    "    to_replace=['Delicatessen', 'Sandwiches/Salads/Mixed Buffet'],\n",
    "                value='Deli/Buffett')\n",
    "\n",
    "df['Cuisine'] = df['Cuisine'].replace(\n",
    "    to_replace=['Soul Food', 'Californian', 'Creole/Cajun', 'Cajun', \n",
    "                'Creole', 'Barbecue', 'Tex-Mex', 'Southwestern', 'Hamburgers'], \n",
    "                value='American')     "
   ]
  },
  {
   "cell_type": "code",
   "execution_count": 18,
   "metadata": {},
   "outputs": [
    {
     "data": {
      "text/plain": [
       "American                     47034\n",
       "Asian                        40401\n",
       "Latin/Caribbean              15164\n",
       "Specialty                    14976\n",
       "Pizza                        12656\n",
       "Mediterranean                12341\n",
       "Coffee/Beverages             11662\n",
       "Bakery                       11185\n",
       "Mexican                       7950\n",
       "Italian                       7849\n",
       "International                 6102\n",
       "Deli/Buffett                  4507\n",
       "Soups & Sandwiches            2741\n",
       "Other                          841\n",
       "African                        699\n",
       "Not Listed/Not Applicable       54\n",
       "Name: Cuisine, dtype: int64"
      ]
     },
     "execution_count": 18,
     "metadata": {},
     "output_type": "execute_result"
    }
   ],
   "source": [
    "df.Cuisine.value_counts()"
   ]
  },
  {
   "cell_type": "markdown",
   "metadata": {},
   "source": [
    "### * Action \n",
    "Action taken by the NYS Department of Health after the inspection."
   ]
  },
  {
   "cell_type": "code",
   "execution_count": 19,
   "metadata": {},
   "outputs": [
    {
     "data": {
      "text/plain": [
       "Violations were cited in the following area(s).                                                                                        192365\n",
       "Establishment re-opened by DOHMH                                                                                                         3701\n",
       "Establishment Closed by DOHMH.  Violations were cited in the following area(s) and those requiring immediate action were addressed.        88\n",
       "Establishment re-closed by DOHMH                                                                                                            8\n",
       "Name: Action, dtype: int64"
      ]
     },
     "execution_count": 19,
     "metadata": {},
     "output_type": "execute_result"
    }
   ],
   "source": [
    "df.Action.value_counts()"
   ]
  },
  {
   "cell_type": "code",
   "execution_count": 20,
   "metadata": {},
   "outputs": [
    {
     "data": {
      "text/plain": [
       "4"
      ]
     },
     "execution_count": 20,
     "metadata": {},
     "output_type": "execute_result"
    }
   ],
   "source": [
    "df.Action.nunique()"
   ]
  },
  {
   "cell_type": "markdown",
   "metadata": {},
   "source": [
    "### * Inspection Type\n",
    "Most interested on Cycle Inspections: Re-inspection, Reopening Inspection and Initial Inspection."
   ]
  },
  {
   "cell_type": "code",
   "execution_count": 21,
   "metadata": {},
   "outputs": [
    {
     "data": {
      "text/plain": [
       "Cycle Inspection / Re-inspection                        89894\n",
       "Cycle Inspection / Initial Inspection                   80510\n",
       "Pre-permit (Operational) / Re-inspection                11449\n",
       "Pre-permit (Operational) / Initial Inspection            9982\n",
       "Cycle Inspection / Reopening Inspection                  3150\n",
       "Pre-permit (Operational) / Reopening Inspection           559\n",
       "Pre-permit (Non-operational) / Initial Inspection         522\n",
       "Pre-permit (Non-operational) / Re-inspection               67\n",
       "Inter-Agency Task Force / Initial Inspection               14\n",
       "Pre-permit (Non-operational) / Compliance Inspection        8\n",
       "Pre-permit (Operational) / Compliance Inspection            5\n",
       "Administrative Miscellaneous / Initial Inspection           2\n",
       "Name: InspectionType, dtype: int64"
      ]
     },
     "execution_count": 21,
     "metadata": {},
     "output_type": "execute_result"
    }
   ],
   "source": [
    "df['InspectionType'].value_counts()"
   ]
  },
  {
   "cell_type": "markdown",
   "metadata": {},
   "source": [
    "We have to deal with the unique values. To avoid dropping valuable data. We will reasign them into more global categories."
   ]
  },
  {
   "cell_type": "code",
   "execution_count": 22,
   "metadata": {},
   "outputs": [],
   "source": [
    "df['InspectionType'] = df['InspectionType'].replace(\n",
    "    to_replace=['Pre-permit (Operational) / Compliance Inspection'], \n",
    "    value='Pre-permit (Operational) / Re-inspection')\n",
    "\n",
    "df['InspectionType'] = df['InspectionType'].replace(\n",
    "    to_replace=['Pre-permit (Non-operational) / Compliance Inspection', \n",
    "                'Pre-permit (Non-operational) / Re-inspection', \n",
    "               'Pre-permit (Non-operational) / Initial Inspection'], \n",
    "    value='Pre-permit (Non-operational)')\n",
    "\n",
    "df['InspectionType'] = df['InspectionType'].replace(\n",
    "    to_replace=['Inter-Agency Task Force / Initial Inspection', \n",
    "                'Administrative Miscellaneous / Initial Inspection'], \n",
    "    value='Cycle Inspection / Initial Inspection')"
   ]
  },
  {
   "cell_type": "code",
   "execution_count": 23,
   "metadata": {},
   "outputs": [
    {
     "data": {
      "text/plain": [
       "Cycle Inspection / Re-inspection                   89894\n",
       "Cycle Inspection / Initial Inspection              80526\n",
       "Pre-permit (Operational) / Re-inspection           11454\n",
       "Pre-permit (Operational) / Initial Inspection       9982\n",
       "Cycle Inspection / Reopening Inspection             3150\n",
       "Pre-permit (Non-operational)                         597\n",
       "Pre-permit (Operational) / Reopening Inspection      559\n",
       "Name: InspectionType, dtype: int64"
      ]
     },
     "execution_count": 23,
     "metadata": {},
     "output_type": "execute_result"
    }
   ],
   "source": [
    "df['InspectionType'].value_counts()"
   ]
  },
  {
   "cell_type": "markdown",
   "metadata": {},
   "source": [
    "### * Inspection Date"
   ]
  },
  {
   "cell_type": "code",
   "execution_count": 24,
   "metadata": {},
   "outputs": [],
   "source": [
    "df['InspectionYear'] = df['InspectionDate'].apply(lambda x: x[6:10])"
   ]
  },
  {
   "cell_type": "code",
   "execution_count": 25,
   "metadata": {},
   "outputs": [
    {
     "data": {
      "text/plain": [
       "2019    72159\n",
       "2018    60153\n",
       "2017    38075\n",
       "2020    17032\n",
       "2016     8651\n",
       "2015       65\n",
       "2014       18\n",
       "2012        6\n",
       "2013        3\n",
       "Name: InspectionYear, dtype: int64"
      ]
     },
     "execution_count": 25,
     "metadata": {},
     "output_type": "execute_result"
    }
   ],
   "source": [
    "df['InspectionYear'].value_counts()"
   ]
  },
  {
   "cell_type": "markdown",
   "metadata": {},
   "source": [
    "### * ViolationCode\n",
    "Unique Violation ID"
   ]
  },
  {
   "cell_type": "code",
   "execution_count": 26,
   "metadata": {},
   "outputs": [
    {
     "data": {
      "text/plain": [
       "array(['04A', '10F', '04C', '06D', '04L', '04N', '08A', '06C', '09C',\n",
       "       '06E', '02B', '06A', '09B', '10B', '06B', '02G', '04H', '03C',\n",
       "       '04O', '06F', '04J', '10E', '10I', '04M', '05D', '10D', '08C',\n",
       "       '05F', '02I', '10H', '02H', '04E', '10J', '02A', '02C', '10A',\n",
       "       '04F', '02D', '10G', '09A', '04K', '05A', '03B', '10C', '03A',\n",
       "       '05C', '04B', '04D', '05H', '08B', '04G', '06G', '03G', '06I',\n",
       "       '05B', '05E', '02F', '03D', '07A', '06H', '18C', '20D', '03E',\n",
       "       '04I', '02E'], dtype=object)"
      ]
     },
     "execution_count": 26,
     "metadata": {},
     "output_type": "execute_result"
    }
   ],
   "source": [
    "df['ViolationCode'].unique()"
   ]
  },
  {
   "cell_type": "code",
   "execution_count": 27,
   "metadata": {},
   "outputs": [],
   "source": [
    "x = df['ViolationCode'].value_counts()"
   ]
  },
  {
   "cell_type": "code",
   "execution_count": 28,
   "metadata": {},
   "outputs": [
    {
     "data": {
      "text/plain": [
       "count       65.000000\n",
       "mean      3017.876923\n",
       "std       6397.219580\n",
       "min          1.000000\n",
       "25%         34.000000\n",
       "50%        292.000000\n",
       "75%       3047.000000\n",
       "max      40490.000000\n",
       "Name: ViolationCode, dtype: float64"
      ]
     },
     "execution_count": 28,
     "metadata": {},
     "output_type": "execute_result"
    }
   ],
   "source": [
    "df['ViolationCode'].value_counts().describe()"
   ]
  },
  {
   "cell_type": "markdown",
   "metadata": {},
   "source": [
    "### * Council District\n",
    "With this feature I am hoping to obtain info about which Council Districts need to enforce the Health Code the most. "
   ]
  },
  {
   "cell_type": "code",
   "execution_count": 29,
   "metadata": {},
   "outputs": [
    {
     "data": {
      "text/plain": [
       "51"
      ]
     },
     "execution_count": 29,
     "metadata": {},
     "output_type": "execute_result"
    }
   ],
   "source": [
    "df['CouncilDistrict'].nunique()"
   ]
  },
  {
   "cell_type": "code",
   "execution_count": 30,
   "metadata": {
    "scrolled": false
   },
   "outputs": [
    {
     "data": {
      "text/plain": [
       "array([ 3., 25., 39., 22.,  4.,  2.,  1.,  6., 21., 32., 17., 20., 38.,\n",
       "       24., 10., 43., 34., 50., 42., 19., 30., 29., 47., 11.,  8., 12.,\n",
       "       35., 26.,  9., 33., 41.,  5., 48., 36., 46., 45., 40., 27., 16.,\n",
       "       15., 51., 28., 13., 49.,  7., 44., 37., 14., 31., 18., 23.])"
      ]
     },
     "execution_count": 30,
     "metadata": {},
     "output_type": "execute_result"
    }
   ],
   "source": [
    "df['CouncilDistrict'].unique()"
   ]
  },
  {
   "cell_type": "markdown",
   "metadata": {},
   "source": [
    "### * IsChain"
   ]
  },
  {
   "cell_type": "markdown",
   "metadata": {},
   "source": [
    "It will be important to differentiate if a business is a fastfood chain or not. As a restauranteur, I understand  that a chain is any eatery with at least 5 locations, or at least one that crosses state borders.\n",
    "Up next, I will create list containing all the chain names in our data set."
   ]
  },
  {
   "cell_type": "code",
   "execution_count": 31,
   "metadata": {},
   "outputs": [],
   "source": [
    "chain_restaurants = ['DON ALEX RESTAURANT', 'COCO FRESH TEA & JUICE', 'TOASTIES', 'DOUBLE DRAGON',\n",
    "                     'YUMMY TACO', \"JIMBO'S HAMBURGER PALACE\",\"LUKE'S LOBSTER\", 'EMPANADAS MONUMENTAL',\n",
    "                     \"FISHERMAN'S COVE\", 'CAFFE BENE', 'LA ISLA RESTAURANT', 'OAXACA TAQUERIA', 'TBAAR',\n",
    "                     'CHIRPING CHICKEN', 'SPICE', 'CHINA WOK', \"AUNTIE ANNE'S PRETZELS\", 'BLUE BOTTLE COFFEE',\n",
    "                     'OUTBACK STEAKHOUSE', 'MCDONALDS', \"XI'AN FAMOUS FOODS\", \"JOHN'S FRIED CHICKEN\",\n",
    "                     \"KENNEDY FRIED CHICKEN & PIZZA\", \"ARTICHOKE BASILLE'S PIZZA\", \"TASTE OF CHINA\",\"DALLAS BBQ\",\n",
    "                     \"DOMINO'S PIZZA\", 'GREGORYS COFFEE', 'FAY DA BAKERY', 'PIZZA HUT', 'GONG CHA', \n",
    "                     \"DUNKIN'\", \"SUBWAY\", 'STARBUCKS', 'KENNEDY FRIED CHICKEN', 'BURGER KING', 'POPEYES', \n",
    "                     'CROWN FRIED CHICKEN', 'CHIPOTLE MEXICAN GRILL', 'GOLDEN KRUST', 'INSOMNIA COOKIES',\n",
    "                     'KFC', \"WENDY'S\", \"DOMINO'S\", 'PRET A MANGER', 'CHECKERS', 'LE PAIN QUOTIDIEN', \n",
    "                     'CARVEL ICE CREAM', 'VIVI BUBBLE TEA', 'JUST SALAD', 'BOSTON MARKET', \"PAPA JOHN'S\",\n",
    "                     'LITTLE CAESARS', 'IHOP', \"APPLEBEE'S\", \"CHOP'T\", 'SHAKE SHACK', 'LENWICH', 'TACO BELL',\n",
    "                     'PARIS BAGUETTE', 'TEXAS CHICKEN & BURGERS', 'FIVE GUYS FAMOUS BURGERS AND FRIES', \n",
    "                     'KUNG FU TEA', 'PANERA BREAD', 'WHITE CASTLE', 'AU BON PAIN', 'HALE & HEARTY SOUP',\n",
    "                     'JOE & THE JUICE', 'BAREBURGER', 'BREAD & BUTTER', 'FRESH & CO', 'POTBELLY SANDWICH WORKS', \n",
    "                     \"CHUCK E. CHEESE'S\", 'AMC THEATRES', 'BLUESTONE LANE','HAPPY GARDEN', 'SWEETGREEN', \n",
    "                     'NO. 1 CHINESE RESTAURANT', 'MAISON KAYSER', 'DIG INN', 'JUICE GENERATION', 'RED LOBSTER',\n",
    "                     \"GREGORY'S COFFEE\", \"JOE'S PIZZA\", 'PRONTO PIZZA', 'CARIDAD RESTAURANT', \"PAPA JOHN'S PIZZA\",\n",
    "                     'LITTLE ITALY PIZZA', 'THINK COFFEE', 'COLD STONE CREAMERY', 'NATIONAL BAKERY', 'RED MANGO',\n",
    "                     'BARNES & NOBLE CAFE', 'LA BAGEL DELIGHT', \"SOPHIE'S CUBAN CUISINE\", \"WINGSTOP\", \n",
    "                     'TOUS LES JOURS', 'MAMAN', 'BELLA NAPOLI', 'DOS TOROS TAQUERIA', 'PELICANA CHICKEN',\n",
    "                     'MAGNOLIA BAKERY', 'WESTVILLE']"
   ]
  },
  {
   "cell_type": "markdown",
   "metadata": {},
   "source": [
    "Using the .isin() method, I will create a new feature that will tell us if all other values in each row are for a Chain or Non-Chain establisment."
   ]
  },
  {
   "cell_type": "code",
   "execution_count": 32,
   "metadata": {},
   "outputs": [],
   "source": [
    "df['IsChain'] = df['Dba'].isin(chain_restaurants)"
   ]
  },
  {
   "cell_type": "code",
   "execution_count": 33,
   "metadata": {},
   "outputs": [
    {
     "data": {
      "text/plain": [
       "False    174382\n",
       "True      21780\n",
       "Name: IsChain, dtype: int64"
      ]
     },
     "execution_count": 33,
     "metadata": {},
     "output_type": "execute_result"
    }
   ],
   "source": [
    "df.IsChain.value_counts()"
   ]
  },
  {
   "cell_type": "markdown",
   "metadata": {},
   "source": [
    "### TARGET\n",
    "'CriticalFlag' is an indicator of a critical violation that is most likely to contribute to foodborne illness. Our possible values are Yes and No (binary)."
   ]
  },
  {
   "cell_type": "code",
   "execution_count": 34,
   "metadata": {
    "scrolled": true
   },
   "outputs": [
    {
     "data": {
      "text/plain": [
       "Y    99321\n",
       "N    96841\n",
       "Name: CriticalFlag, dtype: int64"
      ]
     },
     "execution_count": 34,
     "metadata": {},
     "output_type": "execute_result"
    }
   ],
   "source": [
    "df['CriticalFlag'].value_counts()"
   ]
  },
  {
   "cell_type": "code",
   "execution_count": 35,
   "metadata": {},
   "outputs": [
    {
     "name": "stdout",
     "output_type": "stream",
     "text": [
      "<class 'pandas.core.frame.DataFrame'>\n",
      "Int64Index: 196162 entries, 2 to 400145\n",
      "Data columns (total 17 columns):\n",
      " #   Column                Non-Null Count   Dtype  \n",
      "---  ------                --------------   -----  \n",
      " 0   Camis                 196162 non-null  object \n",
      " 1   Dba                   196162 non-null  object \n",
      " 2   Boro                  196162 non-null  object \n",
      " 3   Zipcode               196162 non-null  object \n",
      " 4   Cuisine               196162 non-null  object \n",
      " 5   InspectionDate        196162 non-null  object \n",
      " 6   Action                196162 non-null  object \n",
      " 7   ViolationCode         196162 non-null  object \n",
      " 8   ViolationDescription  196162 non-null  object \n",
      " 9   CriticalFlag          196162 non-null  object \n",
      " 10  Grade                 196162 non-null  object \n",
      " 11  InspectionType        196162 non-null  object \n",
      " 12  Latitude              196162 non-null  float64\n",
      " 13  Longitude             196162 non-null  float64\n",
      " 14  CouncilDistrict       196162 non-null  float64\n",
      " 15  InspectionYear        196162 non-null  object \n",
      " 16  IsChain               196162 non-null  bool   \n",
      "dtypes: bool(1), float64(3), object(13)\n",
      "memory usage: 25.6+ MB\n"
     ]
    }
   ],
   "source": [
    "df.info()"
   ]
  },
  {
   "cell_type": "code",
   "execution_count": 36,
   "metadata": {},
   "outputs": [],
   "source": [
    "X = df.drop(columns=['CriticalFlag'])\n",
    "y = df['CriticalFlag']"
   ]
  },
  {
   "cell_type": "code",
   "execution_count": 37,
   "metadata": {},
   "outputs": [],
   "source": [
    "from sklearn.model_selection import train_test_split\n",
    "X_train, X_test, y_train, y_test = train_test_split(X, y, test_size = 0.4, random_state = 42)"
   ]
  },
  {
   "cell_type": "code",
   "execution_count": 38,
   "metadata": {},
   "outputs": [
    {
     "name": "stdout",
     "output_type": "stream",
     "text": [
      "<class 'pandas.core.frame.DataFrame'>\n",
      "Int64Index: 117697 entries, 126620 to 248657\n",
      "Data columns (total 16 columns):\n",
      " #   Column                Non-Null Count   Dtype  \n",
      "---  ------                --------------   -----  \n",
      " 0   Camis                 117697 non-null  object \n",
      " 1   Dba                   117697 non-null  object \n",
      " 2   Boro                  117697 non-null  object \n",
      " 3   Zipcode               117697 non-null  object \n",
      " 4   Cuisine               117697 non-null  object \n",
      " 5   InspectionDate        117697 non-null  object \n",
      " 6   Action                117697 non-null  object \n",
      " 7   ViolationCode         117697 non-null  object \n",
      " 8   ViolationDescription  117697 non-null  object \n",
      " 9   Grade                 117697 non-null  object \n",
      " 10  InspectionType        117697 non-null  object \n",
      " 11  Latitude              117697 non-null  float64\n",
      " 12  Longitude             117697 non-null  float64\n",
      " 13  CouncilDistrict       117697 non-null  float64\n",
      " 14  InspectionYear        117697 non-null  object \n",
      " 15  IsChain               117697 non-null  bool   \n",
      "dtypes: bool(1), float64(3), object(12)\n",
      "memory usage: 14.5+ MB\n"
     ]
    }
   ],
   "source": [
    "X_train.info()"
   ]
  },
  {
   "cell_type": "code",
   "execution_count": 39,
   "metadata": {},
   "outputs": [
    {
     "name": "stdout",
     "output_type": "stream",
     "text": [
      "Stored 'X_train' (DataFrame)\n"
     ]
    }
   ],
   "source": [
    "%store X_train "
   ]
  },
  {
   "cell_type": "code",
   "execution_count": 40,
   "metadata": {},
   "outputs": [
    {
     "name": "stdout",
     "output_type": "stream",
     "text": [
      "Stored 'y_train' (Series)\n"
     ]
    }
   ],
   "source": [
    "%store y_train"
   ]
  },
  {
   "cell_type": "code",
   "execution_count": 41,
   "metadata": {},
   "outputs": [
    {
     "name": "stdout",
     "output_type": "stream",
     "text": [
      "Stored 'X_test' (DataFrame)\n"
     ]
    }
   ],
   "source": [
    "%store X_test"
   ]
  },
  {
   "cell_type": "code",
   "execution_count": 42,
   "metadata": {},
   "outputs": [
    {
     "name": "stdout",
     "output_type": "stream",
     "text": [
      "Stored 'y_test' (Series)\n"
     ]
    }
   ],
   "source": [
    "%store y_test"
   ]
  },
  {
   "cell_type": "code",
   "execution_count": null,
   "metadata": {},
   "outputs": [],
   "source": []
  }
 ],
 "metadata": {
  "kernelspec": {
   "display_name": "Python 3",
   "language": "python",
   "name": "python3"
  },
  "language_info": {
   "codemirror_mode": {
    "name": "ipython",
    "version": 3
   },
   "file_extension": ".py",
   "mimetype": "text/x-python",
   "name": "python",
   "nbconvert_exporter": "python",
   "pygments_lexer": "ipython3",
   "version": "3.6.9"
  }
 },
 "nbformat": 4,
 "nbformat_minor": 4
}
