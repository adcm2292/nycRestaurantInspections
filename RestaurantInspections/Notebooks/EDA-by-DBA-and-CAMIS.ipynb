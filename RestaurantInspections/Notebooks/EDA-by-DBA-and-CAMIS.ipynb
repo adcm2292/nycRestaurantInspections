{
 "cells": [
  {
   "cell_type": "code",
   "execution_count": null,
   "metadata": {},
   "outputs": [],
   "source": [
    "import pandas as pd\n",
    "import numpy as np\n",
    "import matplotlib.pyplot as plt\n",
    "import seaborn as sns\n",
    "%matplotlib inline\n",
    "%store -r X_train"
   ]
  },
  {
   "cell_type": "markdown",
   "metadata": {},
   "source": [
    "## EDA by Type of Restaurant"
   ]
  },
  {
   "cell_type": "markdown",
   "metadata": {},
   "source": [
    "### How many establishments are chain owned or a franchise like business model?\n",
    "In this case, we have decided to consider an establishment as \"chain owned\" or \"franchise\" if there are at least 5 locations within New York or at least a third one outside of New York State. "
   ]
  },
  {
   "cell_type": "code",
   "execution_count": 7,
   "metadata": {},
   "outputs": [],
   "source": [
    "is_chain = X_train['IsChain'].value_counts(normalize=True)"
   ]
  },
  {
   "cell_type": "code",
   "execution_count": 8,
   "metadata": {},
   "outputs": [
    {
     "data": {
      "image/png": "[encoded data removed]",
      "text/plain": [
       "<Figure size 720x432 with 1 Axes>"
      ]
     },
     "metadata": {},
     "output_type": "display_data"
    }
   ],
   "source": [
    "pie, ax = plt.subplots(figsize=[10,6])\n",
    "labels = is_chain.keys()\n",
    "plt.pie(x=is_chain, autopct=\"%.1f%%\", explode=[0.05]*2, labels=labels, pctdistance=0.5)\n",
    "plt.title(\"Restaurant Is Chain\", fontsize=14);\n",
    "pie.savefig(\"IsChainPieChart.png\")"
   ]
  },
  {
   "cell_type": "markdown",
   "metadata": {},
   "source": [
    "## What Chain Establishments have the most violations?"
   ]
  },
  {
   "cell_type": "code",
   "execution_count": 9,
   "metadata": {},
   "outputs": [
    {
     "name": "stdout",
     "output_type": "stream",
     "text": [
      "DUNKIN'                   2246\n",
      "SUBWAY                    1083\n",
      "STARBUCKS                 1006\n",
      "MCDONALDS                  819\n",
      "KENNEDY FRIED CHICKEN      406\n",
      "BURGER KING                373\n",
      "POPEYES                    358\n",
      "CROWN FRIED CHICKEN        330\n",
      "CHIPOTLE MEXICAN GRILL     305\n",
      "GOLDEN KRUST               235\n",
      "Name: Dba, dtype: int64\n"
     ]
    }
   ],
   "source": [
    "chain_restaurants = X_train['Dba'].value_counts()\n",
    "chain_restaurants1 = chain_restaurants[:10,]\n",
    "print(chain_restaurants1)"
   ]
  },
  {
   "cell_type": "code",
   "execution_count": null,
   "metadata": {},
   "outputs": [],
   "source": [
    "plt.figure(figsize=(10,8))\n",
    "sns.barplot(chain_restaurants.values, chain_restaurants.index, alpha=0.8)\n",
    "plt.title('Top 10 Chain Establishments with Most Violations', fontsize=24)\n",
    "plt.xlabel('Total Violations', fontsize=16) \n",
    "plt.show()"
   ]
  },
  {
   "cell_type": "markdown",
   "metadata": {},
   "source": [
    "### Conclusion\n",
    "* Considering that only about 11.2% of restaurants in our train set are chain owned or franchises, the amount of total violations they make up for is very high.\n",
    "* Establishments with 45+ violations on record are Chain Restaurants."
   ]
  },
  {
   "cell_type": "code",
   "execution_count": null,
   "metadata": {},
   "outputs": [],
   "source": []
  }
 ],
 "metadata": {
  "kernelspec": {
   "display_name": "Python 3",
   "language": "python",
   "name": "python3"
  },
  "language_info": {
   "codemirror_mode": {
    "name": "ipython",
    "version": 3
   },
   "file_extension": ".py",
   "mimetype": "text/x-python",
   "name": "python",
   "nbconvert_exporter": "python",
   "pygments_lexer": "ipython3",
   "version": "3.6.9"
  }
 },
 "nbformat": 4,
 "nbformat_minor": 4
}
